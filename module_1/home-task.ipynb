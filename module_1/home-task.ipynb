{
 "cells": [
  {
   "cell_type": "markdown",
   "metadata": {},
   "source": [
    "# You'll need to build the following agent:\n",
    "![](../assets/hw_1.png)\n"
   ]
  },
  {
   "cell_type": "markdown",
   "metadata": {},
   "source": [
    "Example input:\n",
    "Lass uns morgen um Mittag nach Berliner Zeit treffen.\n",
    "\n",
    "Example output:\n",
    "Let’s meet tomorrow at 1 PM Nicosia time.\n",
    "\n",
    "PS:\n",
    "The default locale is set in some config / settings"
   ]
  },
  {
   "cell_type": "markdown",
   "metadata": {},
   "source": [
    "Example input:\n",
    "-0.4 * log(0.4)\n",
    "\n",
    "Example output:\n",
    "0.15917600346"
   ]
  },
  {
   "cell_type": "markdown",
   "metadata": {},
   "source": [
    "Example input: μοναδικότητα\n",
    "Example output:\n",
    "\n",
    "```\n",
    "the state, fact, quality, or condition of being singular.\n",
    "\"he believed in the singularity of all cultures\"\n",
    "\n",
    "Physics•Mathematics\n",
    "a point at which a function takes an infinite value, especially in space–time when matter is infinitely dense, such as at the centre of a black hole.\n",
    "```"
   ]
  },
  {
   "cell_type": "markdown",
   "metadata": {},
   "source": []
  }
 ],
 "metadata": {
  "language_info": {
   "name": "python"
  }
 },
 "nbformat": 4,
 "nbformat_minor": 2
}
