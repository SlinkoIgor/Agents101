{
 "cells": [
  {
   "cell_type": "markdown",
   "id": "0d0e279f",
   "metadata": {},
   "source": [
    "[![Open in Colab](https://colab.research.google.com/assets/colab-badge.svg)](https://colab.research.google.com/github/langchain-ai/langchain-academy/blob/main/module-4/parallelization.ipynb) [![Open in LangChain Academy](https://cdn.prod.website-files.com/65b8cd72835ceeacd4449a53/66e9eba12c7b7688aa3dbb5e_LCA-badge-green.svg)](https://academy.langchain.com/courses/take/intro-to-langgraph/lessons/58239934-lesson-1-parallelization)"
   ]
  },
  {
   "cell_type": "markdown",
   "id": "f4169bfb-769a-4db3-833e-c827f19024b2",
   "metadata": {},
   "source": [
    "# Search Agent\n",
    "\n",
    "Let's implement web searching abilities for agent to get relevant context from web!"
   ]
  },
  {
   "metadata": {},
   "cell_type": "code",
   "source": [
    "%%capture --no-stderr\n",
    "%pip install -U  langgraph tavily-python wikipedia langchain_openai langchain_community langgraph_sdk"
   ],
   "id": "618eab5c-4ef7-4273-8e0b-a9c847897ed7",
   "outputs": [],
   "execution_count": null
  },
  {
   "metadata": {},
   "cell_type": "code",
   "source": [
    "import os, getpass\n",
    "\n",
    "def _set_env(var: str):\n",
    "    if not os.environ.get(var):\n",
    "        os.environ[var] = getpass.getpass(f\"{var}: \")\n",
    "\n",
    "_set_env(\"OPENAI_API_KEY\")"
   ],
   "id": "31bbec0d",
   "outputs": [],
   "execution_count": null
  },
  {
   "metadata": {},
   "cell_type": "markdown",
   "source": "## Small recup from previous lecture",
   "id": "69e5dfff264ff02"
  },
  {
   "metadata": {},
   "cell_type": "code",
   "source": [
    "import operator\n",
    "from IPython.display import Image, display\n",
    "\n",
    "from typing import Any, Annotated\n",
    "from typing_extensions import TypedDict\n",
    "\n",
    "from langgraph.graph import StateGraph, START, END, MessagesState\n",
    "\n",
    "\n",
    "class State(TypedDict):\n",
    "    # The operator.add reducer fn makes this append-only\n",
    "    state: Annotated[list, operator.add]\n",
    "\n",
    "class ReturnNodeValue:\n",
    "    def __init__(self, node_secret: str):\n",
    "        self._value = node_secret\n",
    "\n",
    "    def __call__(self, state: State) -> Any:\n",
    "        print(f\"Adding {self._value} to {state['state']}\")\n",
    "        return {\"state\": [self._value]}\n",
    "\n",
    "# Add nodes\n",
    "builder = StateGraph(State)\n",
    "\n",
    "# Initialize each node with node_secret\n",
    "builder.add_node(\"a\", ReturnNodeValue(\"I'm A\"))\n",
    "builder.add_node(\"b\", ReturnNodeValue(\"I'm B\"))\n",
    "builder.add_node(\"c\", ReturnNodeValue(\"I'm C\"))\n",
    "builder.add_node(\"d\", ReturnNodeValue(\"I'm D\"))\n",
    "\n",
    "# Flow\n",
    "builder.add_edge(START, \"a\")\n",
    "builder.add_edge(\"a\", \"b\")\n",
    "builder.add_edge(\"a\", \"c\")\n",
    "builder.add_edge(\"b\", \"d\")\n",
    "builder.add_edge(\"c\", \"d\")\n",
    "builder.add_edge(\"d\", END)\n",
    "graph = builder.compile()\n",
    "\n",
    "display(Image(graph.get_graph().draw_mermaid_png()))"
   ],
   "id": "1dd77093-1794-4bd7-8c57-58f59a74c20b",
   "outputs": [],
   "execution_count": null
  },
  {
   "metadata": {},
   "cell_type": "markdown",
   "source": "We over-write state, as expected.",
   "id": "bdd027d3-ef9f-4d43-b190-e9f07d521e18"
  },
  {
   "metadata": {},
   "cell_type": "code",
   "source": [
    "graph.invoke({\"state\": []})\n",
    "# Q: What is the output?\n",
    "# Q: What is the order of the reduction?"
   ],
   "id": "bf260088-90d5-45b2-93ab-42f241560840",
   "outputs": [],
   "execution_count": null
  },
  {
   "metadata": {},
   "cell_type": "markdown",
   "source": [
    "## Travily\n",
    "[Tavily](https://tavily.com/) is one nice option to implement web search tools., but ensure your `TAVILY_API_KEY` is set."
   ],
   "id": "ef3ff7adc374ca9b"
  },
  {
   "cell_type": "code",
   "id": "c8bb519a-d08a-4ec7-8f0b-2ce6a9bf7342",
   "metadata": {
    "ExecuteTime": {
     "end_time": "2025-03-23T20:48:38.027176Z",
     "start_time": "2025-03-23T20:48:36.564868Z"
    }
   },
   "source": [
    "import os, getpass\n",
    "def _set_env(var: str):\n",
    "    if not os.environ.get(var):\n",
    "        os.environ[var] = getpass.getpass(f\"{var}: \")\n",
    "_set_env(\"TAVILY_API_KEY\")"
   ],
   "outputs": [],
   "execution_count": 81
  },
  {
   "metadata": {
    "ExecuteTime": {
     "end_time": "2025-03-23T20:48:50.920707Z",
     "start_time": "2025-03-23T20:48:48.074865Z"
    }
   },
   "cell_type": "code",
   "source": [
    "from langchain_community.tools import TavilySearchResults\n",
    "tavily_search = TavilySearchResults(max_results=3) # Q: How it works?\n",
    "search_docs = tavily_search.invoke(\"What is langgraph?\")\n",
    "search_docs"
   ],
   "id": "f7c14b93b63c904b",
   "outputs": [
    {
     "data": {
      "text/plain": [
       "[{'title': 'What is LangGraph? - Analytics Vidhya',\n",
       "  'url': 'https://www.analyticsvidhya.com/blog/2024/07/langgraph-revolutionizing-ai-agent/',\n",
       "  'content': 'To sum up, LangGraph is a major advancement in the development of AI agents. It enables developers to push the limits of what’s possible with AI agents by eliminating the shortcomings of earlier systems and offering a flexible, graph-based framework for agent construction and execution. LangGraph is positioned to influence the direction of artificial intelligence significantly in the future. [...] LangGraph is a library built on top of Langchain that is designed to facilitate the creation of cyclic graphs for large language model (LLM) – based AI agents.\\nIt views agent Objective Points about LangGraph and workflows as cyclic graph topologies, allowing for more variable and nuanced agent behaviors than linear execution models. [...] Frameworks such as LangGraph are becoming increasingly important as AI develops. LangGraph is making the next generation of AI applications possible by offering a versatile and strong framework for developing and overseeing AI agents.',\n",
       "  'score': 0.9022838834027778},\n",
       " {'title': 'What Is LangGraph and How to Use It? - DataCamp',\n",
       "  'url': 'https://www.datacamp.com/tutorial/langgraph-tutorial',\n",
       "  'content': \"Home\\nTutorials\\nArtificial Intelligence\\n\\nLangGraph Tutorial: What Is LangGraph and How to Use It?\\nLangGraph is a library within the LangChain ecosystem that provides a framework for defining, coordinating, and executing multiple LLM agents (or chains) in a structured and efficient manner.\\nJun 26, 2024 \\xa0· 12 min read\\nShare [...] Imagine you're building a complex, multi-agent large language model (LLM) application. It's exciting, but it comes with challenges: managing the state of various agents, coordinating their interactions, and handling errors effectively. This is where LangGraph can help.\\nLangGraph is a library within the LangChain ecosystem designed to tackle these challenges head-on. LangGraph provides a framework for defining, coordinating, and executing multiple LLM agents (or chains) in a structured manner. [...] Related\\ntutorial ### LangGraph Studio Guide: Installation, Set Up, Use Cases\\nLangGraph Studio is a visual development environment for LangChain’s LangGraph framework, simplifying the development of complex agentic applications built with LangChain components.\",\n",
       "  'score': 0.8853008471180556},\n",
       " {'title': 'Home - GitHub Pages',\n",
       "  'url': 'https://langchain-ai.github.io/langgraph/',\n",
       "  'content': '🦜🕸️LangGraph¶\\n   \\n⚡ Building language agents as graphs ⚡\\nNote\\nLooking for the JS version? See the JS repo and the JS docs.\\nOverview¶\\nLangGraph is a library for building stateful, multi-actor applications with LLMs, used to create agent and multi-agent workflows. Check out an introductory tutorial here. [...] Tip\\nLangGraph is a low-level framework that allows you to implement any custom agent architectures. Click on the low-level implementation below to see how to implement a tool-calling agent from scratch.\\nLow-level implementation\\n[](https://langchain-ai.github.io/langgraph/#__codelineno-8-1)from typing import Literal\\n[](https://langchain-ai.github.io/langgraph/#__codelineno-8-2)\\n[](https://langchain-ai.github.io/langgraph/#__codelineno-8-3)from langchain_anthropic import ChatAnthropic',\n",
       "  'score': 0.8798243660156251}]"
      ]
     },
     "execution_count": 83,
     "metadata": {},
     "output_type": "execute_result"
    }
   ],
   "execution_count": 83
  },
  {
   "metadata": {},
   "cell_type": "markdown",
   "source": [
    "## Research Agent with Search\n",
    "\n",
    "Let's build an agent which before generation an answer goes to web for relevant context"
   ],
   "id": "82953a590d4f6270"
  },
  {
   "metadata": {
    "ExecuteTime": {
     "end_time": "2025-03-23T20:55:42.633337Z",
     "start_time": "2025-03-23T20:55:42.290681Z"
    }
   },
   "cell_type": "code",
   "outputs": [],
   "execution_count": 87,
   "source": [
    "from langchain_openai import ChatOpenAI\n",
    "llm = ChatOpenAI(model=\"gpt-3.5-turbo\")"
   ],
   "id": "69518c44936c6405"
  },
  {
   "metadata": {
    "ExecuteTime": {
     "end_time": "2025-03-23T21:14:37.580414Z",
     "start_time": "2025-03-23T21:14:37.577999Z"
    }
   },
   "cell_type": "code",
   "source": [
    "class State(TypedDict):\n",
    "    question: str\n",
    "    answer: str\n",
    "    context: str"
   ],
   "id": "7b5edbb0a4fbeea6",
   "outputs": [],
   "execution_count": 110
  },
  {
   "cell_type": "code",
   "id": "bfb4f56c-3334-4927-8ed8-62fd384ee43e",
   "metadata": {
    "ExecuteTime": {
     "end_time": "2025-03-23T21:14:38.486307Z",
     "start_time": "2025-03-23T21:14:38.436821Z"
    }
   },
   "source": [
    "from langchain_core.messages import HumanMessage, SystemMessage\n",
    "\n",
    "from langchain_community.tools import TavilySearchResults\n",
    "\n",
    "def search_web(state):\n",
    "    # Search\n",
    "    tavily_search = TavilySearchResults(max_results=3)\n",
    "    search_docs = tavily_search.invoke(state['question'])\n",
    "\n",
    "     # Format\n",
    "    formatted_search_docs = \"\\n\\n---\\n\\n\".join(\n",
    "        [\n",
    "            f'<Document href=\"{doc[\"url\"]}\">\\n{doc[\"content\"]}\\n</Document>'\n",
    "            for doc in search_docs\n",
    "        ]\n",
    "    )\n",
    "\n",
    "    return {\"context\": formatted_search_docs}\n",
    "\n",
    "def generate_answer(state):\n",
    "    # Get state\n",
    "    context = state[\"context\"]\n",
    "    question = state[\"question\"]\n",
    "\n",
    "    # Template\n",
    "    answer_template = \"\"\"Answer the question {question} using this context: {context}\"\"\"\n",
    "    answer_instructions = answer_template.format(question=question, context=context)\n",
    "    \n",
    "    # Answer\n",
    "    answer = llm.invoke([SystemMessage(content=answer_instructions)]+[HumanMessage(content=f\"Answer the question.\")])\n",
    "      \n",
    "    # Append it to state\n",
    "    return {\"answer\": answer}\n",
    "\n",
    "# Add nodes\n",
    "builder = StateGraph(State)\n",
    "\n",
    "# Initialize each node with node_secret \n",
    "builder.add_node(\"search_web\",search_web)\n",
    "builder.add_node(\"generate_answer\", generate_answer)\n",
    "\n",
    "# Flow\n",
    "builder.add_edge(START, \"search_web\")\n",
    "builder.add_edge(\"search_web\", \"generate_answer\")\n",
    "builder.add_edge(\"generate_answer\", END)\n",
    "graph = builder.compile()\n",
    "\n",
    "display(Image(graph.get_graph().draw_mermaid_png()))"
   ],
   "outputs": [
    {
     "data": {
      "image/png": "[encoded data removed]",
      "text/plain": [
       "<IPython.core.display.Image object>"
      ]
     },
     "metadata": {},
     "output_type": "display_data"
    }
   ],
   "execution_count": 111
  },
  {
   "cell_type": "code",
   "id": "fa544ca0-10af-491e-ad7a-477d004413eb",
   "metadata": {
    "ExecuteTime": {
     "end_time": "2025-03-23T21:14:44.583640Z",
     "start_time": "2025-03-23T21:14:40.866155Z"
    }
   },
   "source": [
    "result = graph.invoke({\"question\": \"How were Nvidia's Q2 2024 earnings\"})\n",
    "result['answer'].content"
   ],
   "outputs": [
    {
     "data": {
      "text/plain": [
       "\"Nvidia's Q2 2024 earnings were exceptionally strong, with reported revenue of $30.04 billion, a significant increase of 122% from the previous year's $13.5 billion. Net income for Q2 2024 was $16.6 billion, up 168% from the year-ago period. The data center segment was a standout performer, generating $26.3 billion in revenue, up 154% from the previous year's Q2. Overall, Nvidia exceeded analysts' estimates and demonstrated robust growth across its key business segments, despite a rise in expenses driven by compensation and benefits.\""
      ]
     },
     "execution_count": 112,
     "metadata": {},
     "output_type": "execute_result"
    }
   ],
   "execution_count": 112
  },
  {
   "metadata": {
    "ExecuteTime": {
     "end_time": "2025-03-23T21:14:45.762878Z",
     "start_time": "2025-03-23T21:14:45.759700Z"
    }
   },
   "cell_type": "code",
   "source": "result['context']",
   "id": "d59a01962ba92169",
   "outputs": [
    {
     "data": {
      "text/plain": [
       "'<Document href=\"https://www.investopedia.com/nvidia-earnings-live-coverage-q2-fy2025-8703414\">\\nAugust 28, 2024 04:31 PM EDT\\nNvidia reported fiscal second-quarter earnings and revenue that exceeded analysts’ estimates, as data center revenue reached another record high, driven by surging demand for artificial intelligence.\\nThe AI chipmaker posted second-quarter revenue of $30.04 billion, more than doubling from the same period a year\\xa0ago. Net\\xa0income at $16.6 billion also more than doubled from the year-ago period. [...] August 28, 2024 04:50 PM EDT\\nHere’s how Nvidia reported its second-quarter revenue and revenue growth by business segment:\\n\\nData center: $26.3 billion, up 16% from Q1 and 154% from last year’s Q2\\nGaming and AI PC: $2.9 billion, up 9% from Q1 and 16% from last year’s Q2\\nProfessional visualization: $454 million, up 6% from Q1 and 20% from last year’s Q2\\nAutomotive and robotics: $346 million, up 5% from Q1 and 37% from last year’s Q2 [...] August 28, 2024 04:58 PM EDT\\nCompensation and benefit drove growth in expenses at Nvidia in Q2, according to published commentary by CFO Colette Kress.\\nOperating expenses according to generally accepted accounting principles rose 48% year-over-year and 12% sequentially, according to the commentary, while non-GAAP operating expenses rose 52% and 12%, respectively.\\n</Document>\\n\\n---\\n\\n<Document href=\"https://www.forbes.com/sites/petercohan/2024/08/28/nvidia-stock-down-after-hours-despite-q2-earnings-beat-and-raise/\">\\nQ2 2024 revenue: $30 billion — up 122% from the previous year’s $13.5 billion — and $1.3 billion more than analysts’ consensus of $28.7 billion for the quarter ending July 31, according to London Stock Exchange Group.\\nData center revenue: $26.3 billion — up 154% from the year before and $1.1 billion more than StreetAccount expectations.\\nQ2 2024 net income: $16.6 billion — up 168% from the year-ago period, noted CNBC.\\n</Document>\\n\\n---\\n\\n<Document href=\"https://investor.nvidia.com/news/press-release-details/2024/NVIDIA-Announces-Financial-Results-for-Second-Quarter-Fiscal-2025/default.aspx\">\\nSANTA CLARA, Calif., Aug. 28, 2024 (GLOBE NEWSWIRE) -- NVIDIA (NASDAQ: NVDA) today reported revenue for the second quarter ended July 28, 2024, of $30.0 billion, up 15% from the previous quarter and up 122% from a year ago.\\nFor the quarter, GAAP earnings per diluted share was $0.67, up 12% from the previous quarter and up 168% from a year ago. Non-GAAP earnings per diluted share was $0.68, up 11% from the previous quarter and up 152% from a year ago. [...] Skip to main content\\nPress Release Details\\nVIEW ALL NEWS\\nNVIDIA Announces Financial Results For Second Quarter Fiscal 2025\\nAugust 28, 2024\\nRecord quarterly revenue of $30.0 billion, up 15% from Q1 and up 122% from a year ago\\xa0\\nRecord quarterly Data Center revenue of $26.3 billion, up 16% from Q1 and up 154% from a year ago [...] NVIDIA will pay its next quarterly cash dividend of $0.01 per share on October 3, 2024, to all shareholders of record on September 12, 2024.\\nOn June 7, 2024, NVIDIA completed a ten-for-one forward stock split. All share and per-share amounts presented have been retroactively adjusted to reflect the stock split.\\nQ2 Fiscal 2025 Summary\\nGAAP\\n($ in millions, except earnings\\nper share)  Q2 FY25 Q1 FY25 Q2 FY24 Q/Q Y/Y\\nRevenue $30,040 $26,044 $13,507 Up 15%  Up 122%\\n</Document>'"
      ]
     },
     "execution_count": 113,
     "metadata": {},
     "output_type": "execute_result"
    }
   ],
   "execution_count": 113
  },
  {
   "metadata": {},
   "cell_type": "markdown",
   "source": [
    "## Task\n",
    "Add wikipedia tool as a parallel tool call\n",
    "https://python.langchain.com/docs/integrations/document_loaders/wikipedia/"
   ],
   "id": "e7f40a5cb8bca4a7"
  },
  {
   "metadata": {
    "ExecuteTime": {
     "end_time": "2025-03-23T21:18:45.093170Z",
     "start_time": "2025-03-23T21:18:45.091264Z"
    }
   },
   "cell_type": "code",
   "source": [
    "# Q: How answer changed?\n",
    "# Q: Can you come up with question which can not be solved fully without both search tools?"
   ],
   "id": "84e09ca46c02d3ea",
   "outputs": [],
   "execution_count": 114
  }
 ],
 "metadata": {
  "kernelspec": {
   "display_name": "lc-academy-env",
   "language": "python",
   "name": "python3"
  },
  "language_info": {
   "codemirror_mode": {
    "name": "ipython",
    "version": 3
   },
   "file_extension": ".py",
   "mimetype": "text/x-python",
   "name": "python",
   "nbconvert_exporter": "python",
   "pygments_lexer": "ipython3",
   "version": "3.11.8"
  }
 },
 "nbformat": 4,
 "nbformat_minor": 5
}
