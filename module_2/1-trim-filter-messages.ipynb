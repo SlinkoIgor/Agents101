{
 "cells": [
  {
   "cell_type": "markdown",
   "id": "fb0ebaf1",
   "metadata": {},
   "source": [
    "[![Open in Colab](https://colab.research.google.com/assets/colab-badge.svg)](https://colab.research.google.com/github/langchain-ai/langchain-academy/blob/main/module-2/trim-filter-messages.ipynb) [![Open in LangChain Academy](https://cdn.prod.website-files.com/65b8cd72835ceeacd4449a53/66e9eba12c7b7688aa3dbb5e_LCA-badge-green.svg)](https://academy.langchain.com/courses/take/intro-to-langgraph/lessons/58239435-lesson-4-trim-and-filter-messages)"
   ]
  },
  {
   "cell_type": "markdown",
   "id": "c52ea2f9-03ff-4647-b782-46867ebed04e",
   "metadata": {},
   "source": [
    "# Filtering and trimming messages\n",
    "\n",
    "In the next few sessions, we'll build towards a chatbot that has long-term memory and start with context management approaches like filtering and trimming"
   ]
  },
  {
   "cell_type": "code",
   "id": "d5197aba-5d46-421b-ae3b-4e3034edcfda",
   "metadata": {
    "ExecuteTime": {
     "end_time": "2025-03-17T08:38:15.800125Z",
     "start_time": "2025-03-17T08:38:14.012217Z"
    }
   },
   "source": [
    "%%capture --no-stderr\n",
    "%pip install --quiet -U langchain_core langgraph langchain_openai"
   ],
   "outputs": [],
   "execution_count": 34
  },
  {
   "cell_type": "code",
   "id": "768dc606-d5f2-468d-96ea-910b264e0f8a",
   "metadata": {
    "ExecuteTime": {
     "end_time": "2025-03-17T08:16:21.864189Z",
     "start_time": "2025-03-17T08:16:21.861136Z"
    }
   },
   "source": [
    "import os, getpass\n",
    "\n",
    "def _set_env(var: str):\n",
    "    if not os.environ.get(var):\n",
    "        os.environ[var] = getpass.getpass(f\"{var}: \")\n",
    "\n",
    "_set_env(\"OPENAI_API_KEY\")"
   ],
   "outputs": [],
   "execution_count": 11
  },
  {
   "cell_type": "markdown",
   "id": "72f3fc90-58b6-4f7f-897e-dddf6ae532c7",
   "metadata": {},
   "source": [
    "## Model\n",
    "Different models may have different context window size.\n",
    "* Check here for OpenAI models: https://platform.openai.com/docs/models\n",
    "* To check context window size in transformer-based models in Hugging Face you need to look into 'max_position_embeddings' field 'config.json' in repo files https://huggingface.co/Qwen/QwQ-32B/blob/main/config.json"
   ]
  },
  {
   "metadata": {
    "ExecuteTime": {
     "end_time": "2025-03-17T08:50:36.171135Z",
     "start_time": "2025-03-17T08:50:36.159111Z"
    }
   },
   "cell_type": "code",
   "source": [
    "from langchain_openai import ChatOpenAI\n",
    "llm = ChatOpenAI(model=\"gpt-3.5-turbo\") # Q: what is the context window size for GPT-3.5-turbo, GPT-4o?"
   ],
   "id": "4712e288-e622-48a2-ad3f-a52f65f3ab08",
   "outputs": [],
   "execution_count": 35
  },
  {
   "metadata": {},
   "cell_type": "markdown",
   "source": [
    "## Large Context and Attention Spread in LLMs\n",
    "This example demonstrates how processing a large list of messages can influence a model's attention, influencing its output. It highlights the importance of **filtering context** in agent-based systems to **ensure accuracy and save money**!"
   ],
   "id": "9c20b91a4c234298"
  },
  {
   "metadata": {},
   "cell_type": "markdown",
   "source": "Let's consider synthetic example: llm is given a list of integers 1..N where M integers are missed. The task of llm is to detect missing numbers.",
   "id": "a6ecc6628daf1cb0"
  },
  {
   "metadata": {
    "ExecuteTime": {
     "end_time": "2025-03-17T15:04:11.151546Z",
     "start_time": "2025-03-17T15:04:11.147919Z"
    }
   },
   "cell_type": "code",
   "source": [
    "import random\n",
    "import ast\n",
    "\n",
    "# Generate a large list of numbers\n",
    "N = 1001 # Q: what will happen if I change to 1001? 10001?\n",
    "M = 50 # Q: what will happen if I change M to 10? 100?\n",
    "\n",
    "full_list = list(range(1, N))  # 1 to N\n",
    "removed_numbers = random.sample(full_list, M)  # Remove 50 random numbers\n",
    "incomplete_list = [num for num in full_list if num not in removed_numbers]\n",
    "\n",
    "def get_prompt(large_input, n) -> str:\n",
    "    return (f\"Here is a list of numbers from 1 to {n} (some are missing): {large_input}\\n\"\n",
    "              f\"Can you identify which numbers are missing? Return ONLY python list of missing numbers.\")\n",
    "\n",
    "# Function to simulate an LLM's attention limitation\n",
    "def ask_llm(prompt: str) -> list[int]:\n",
    "    response = llm.invoke([HumanMessage(prompt)])\n",
    "    # Transform output to python code. Not safe, in case of failure rerun\n",
    "    return ast.literal_eval(response.content)"
   ],
   "id": "79853f75faa15ee1",
   "outputs": [],
   "execution_count": 80
  },
  {
   "metadata": {
    "ExecuteTime": {
     "end_time": "2025-03-17T15:05:39.739812Z",
     "start_time": "2025-03-17T15:05:37.097848Z"
    }
   },
   "cell_type": "code",
   "source": [
    "# Run simulation\n",
    "prompt = get_prompt(incomplete_list, N)\n",
    "detected = ask_llm(prompt)\n",
    "print(f\"Detected missing numbers (model's response): {detected}\")\n",
    "print(f\"Actual missing numbers: {removed_numbers}\")\n",
    "\n",
    "# Show difference\n",
    "missed = set(removed_numbers) - set(detected)\n",
    "success = set(detected) - set(missed)\n",
    "wrong = set(detected) - set(removed_numbers)\n",
    "if missed:\n",
    "    print(f\"Numbers the model failed to detect: {missed}\")\n",
    "    print(f\"Numbers the model succeeded to detect: {success}\")\n",
    "    print(f\"Wrong numbers detected by the model: {wrong}\")\n",
    "else:\n",
    "    print(\"The model correctly detected all missing numbers!\")"
   ],
   "id": "88976464c092ef2d",
   "outputs": [
    {
     "name": "stdout",
     "output_type": "stream",
     "text": [
      "Detected missing numbers (model's response): [7, 29, 62, 68, 91, 138, 159, 173, 179, 182, 218, 243, 269, 281, 282, 293, 297, 308, 317, 323, 326, 331, 339, 360, 374, 393, 420, 443, 462, 471, 490, 516, 574, 582, 588, 604, 606, 628, 633, 644, 687, 689, 692, 773, 774, 777, 793, 851, 890, 901, 939, 945, 960, 981]\n",
      "Actual missing numbers: [218, 793, 644, 243, 604, 774, 281, 687, 582, 939, 981, 689, 7, 574, 182, 331, 890, 588, 323, 374, 179, 339, 777, 29, 62, 606, 159, 326, 945, 317, 138, 755, 360, 293, 691, 173, 516, 628, 269, 471, 710, 68, 960, 851, 633, 901, 282, 490, 692, 393]\n",
      "Numbers the model failed to detect: {691, 710, 755}\n",
      "Numbers the model succeeded to detect: {516, 644, 773, 7, 774, 393, 138, 777, 901, 269, 281, 282, 793, 29, 159, 420, 293, 297, 939, 173, 687, 689, 945, 179, 308, 692, 182, 443, 317, 62, 574, 960, 323, 68, 326, 582, 331, 588, 462, 339, 851, 981, 471, 218, 91, 604, 606, 360, 490, 243, 628, 374, 633, 890}\n",
      "Wrong numbers detected by the model: {420, 773, 297, 91, 462, 308, 443}\n"
     ]
    }
   ],
   "execution_count": 82
  },
  {
   "metadata": {},
   "cell_type": "markdown",
   "source": [
    "## Tiktoken\n",
    "To estimate the number of tokens, you can use tiktoken library https://pypi.org/project/tiktoken/"
   ],
   "id": "e02bba053c158569"
  },
  {
   "metadata": {
    "ExecuteTime": {
     "end_time": "2025-03-17T15:05:53.441596Z",
     "start_time": "2025-03-17T15:05:53.437916Z"
    }
   },
   "cell_type": "code",
   "source": [
    "import tiktoken\n",
    "\n",
    "# Initialize the tokenizer for a specific model (e.g., \"gpt-4\" or \"gpt-3.5-turbo\")\n",
    "model_name = \"gpt-3.5-turbo\"\n",
    "enc = tiktoken.encoding_for_model(model_name)\n",
    "\n",
    "# Tokenize and count tokens\n",
    "tokens = enc.encode(prompt)\n",
    "token_count = len(tokens)\n",
    "\n",
    "# Display results\n",
    "print(f\"Token Count: {token_count}\")"
   ],
   "id": "54848019c48cce9f",
   "outputs": [
    {
     "name": "stdout",
     "output_type": "stream",
     "text": [
      "Token Count: 2885\n"
     ]
    }
   ],
   "execution_count": 83
  },
  {
   "cell_type": "markdown",
   "id": "fbd1dab8-0af8-4621-8264-ce65065f76ec",
   "metadata": {},
   "source": [
    "## Agents Context\n",
    "Messages content form the context of the llm in agents. Long-running conversations result in high token usage and latency if we are not careful, because we pass a growing list of messages to the model. That is why blindly passing all messages from state to the llm is not always a good idea, so we want to manage them."
   ]
  },
  {
   "metadata": {},
   "cell_type": "markdown",
   "source": "Let's first define a simple graph with `MessagesState`",
   "id": "e55884cd945074b2"
  },
  {
   "metadata": {
    "ExecuteTime": {
     "end_time": "2025-03-17T15:39:58.601634Z",
     "start_time": "2025-03-17T15:39:58.505772Z"
    }
   },
   "cell_type": "code",
   "source": [
    "from IPython.display import Image, display\n",
    "from langgraph.graph import MessagesState\n",
    "from langgraph.graph import StateGraph, START, END\n",
    "\n",
    "# Node\n",
    "def call_llm(state: MessagesState):\n",
    "    return {\"messages\": llm.invoke(state[\"messages\"])}\n",
    "\n",
    "# Build graph\n",
    "builder = StateGraph(MessagesState)\n",
    "builder.add_node(\"call_llm\", call_llm)\n",
    "builder.add_edge(START, \"call_llm\")\n",
    "builder.add_edge(\"call_llm\", END)\n",
    "graph = builder.compile()\n",
    "\n",
    "# View\n",
    "display(Image(graph.get_graph().draw_mermaid_png()))"
   ],
   "id": "bbd8c39c-633b-4176-9cc6-8318e42bb5dd",
   "outputs": [
    {
     "data": {
      "image/png": "[encoded data removed]",
      "text/plain": [
       "<IPython.core.display.Image object>"
      ]
     },
     "metadata": {},
     "output_type": "display_data"
    }
   ],
   "execution_count": 117
  },
  {
   "metadata": {
    "ExecuteTime": {
     "end_time": "2025-03-17T15:40:04.348233Z",
     "start_time": "2025-03-17T15:40:02.080223Z"
    }
   },
   "cell_type": "code",
   "source": [
    "from pprint import pprint\n",
    "from langchain_core.messages import HumanMessage, AIMessage\n",
    "\n",
    "# Message list with a preamble\n",
    "messages = [\n",
    "    HumanMessage(f\"Hi! I'm Lance!\", id=\"1\"),\n",
    "    AIMessage(f\"Hi, Lance! How can I help you?\", id=\"2\"),\n",
    "    HumanMessage(f\"I'm doing research about Cyprus, what I should know?\", id=\"3\"),\n",
    "]\n",
    "\n",
    "result = graph.invoke({'messages': messages})\n",
    "\n",
    "for m in result['messages']:\n",
    "    m.pretty_print()"
   ],
   "id": "cf11a463-e27a-4a05-b41d-64882e38edca",
   "outputs": [
    {
     "name": "stdout",
     "output_type": "stream",
     "text": [
      "================================\u001B[1m Human Message \u001B[0m=================================\n",
      "\n",
      "Hi! I'm Lance!\n",
      "==================================\u001B[1m Ai Message \u001B[0m==================================\n",
      "\n",
      "Hi, Lance! How can I help you?\n",
      "================================\u001B[1m Human Message \u001B[0m=================================\n",
      "\n",
      "I'm doing research about Cyprus, what I should know?\n",
      "==================================\u001B[1m Ai Message \u001B[0m==================================\n",
      "\n",
      "That's great! Cyprus is an island country located in the eastern Mediterranean Sea, south of Turkey and west of Syria and Lebanon. Here are some key points you may want to know about Cyprus:\n",
      "\n",
      "1. Cyprus is known for its beautiful beaches, crystal clear waters, and rich history. It is a popular tourist destination, especially during the summer months.\n",
      "\n",
      "2. The capital city of Cyprus is Nicosia, which is also the largest city on the island.\n",
      "\n",
      "3. Cyprus has a rich cultural heritage that blends Greek, Turkish, and Middle Eastern influences. The official languages are Greek and Turkish.\n",
      "\n",
      "4. The island has a complex political situation, with the northern part of the island being controlled by the self-declared Turkish Republic of Northern Cyprus, recognized only by Turkey. The southern part of the island is the internationally recognized Republic of Cyprus.\n",
      "\n",
      "5. Cyprus is a member of the European Union and uses the euro as its currency.\n",
      "\n",
      "6. The economy of Cyprus is primarily based on tourism, shipping, and financial services.\n",
      "\n",
      "I hope this information helps with your research on Cyprus! Let me know if you have any other questions.\n"
     ]
    }
   ],
   "execution_count": 118
  },
  {
   "cell_type": "markdown",
   "id": "34c33e63-1ef4-412d-bb10-6a1b9e5b35a7",
   "metadata": {},
   "source": [
    "## Option №1: RemoveMessage and add_messages reducer\n",
    "\n",
    "`RemoveMessage` is a special type of message, which you can put into the `messages` list setting the message id you want to delete. The deletion will be executed by `add_messages` reducer while applying state diff.\n",
    "\n",
    "So the possible solution can be as following: let's just delete the first messages in chat, leaving only the 2 most recent messages"
   ]
  },
  {
   "cell_type": "code",
   "id": "222c6bc5-bb0e-4a43-80f5-c8ec38d99f3a",
   "metadata": {
    "ExecuteTime": {
     "end_time": "2025-03-17T15:40:16.206295Z",
     "start_time": "2025-03-17T15:40:16.142860Z"
    }
   },
   "source": [
    "from langchain_core.messages import RemoveMessage\n",
    "\n",
    "# Nodes\n",
    "def remove_messages(state: MessagesState):\n",
    "    # Delete all but the 2 most recent messages\n",
    "    delete_messages = [RemoveMessage(id=m.id) for m in state[\"messages\"][:-2]] # Q: what is the possible downside of this approach?\n",
    "    return {\"messages\": delete_messages}\n",
    "\n",
    "def call_llm(state: MessagesState):\n",
    "    return {\"messages\": [llm.invoke(state[\"messages\"])]}\n",
    "\n",
    "# Build graph\n",
    "builder = StateGraph(MessagesState)\n",
    "builder.add_node(\"remove_messages\", remove_messages)\n",
    "builder.add_node(\"call_llm\", call_llm)\n",
    "builder.add_edge(START, \"remove_messages\")\n",
    "builder.add_edge(\"remove_messages\", \"call_llm\")\n",
    "builder.add_edge(\"call_llm\", END)\n",
    "graph_with_remove_message = builder.compile()\n",
    "\n",
    "# View\n",
    "display(Image(graph_with_remove_message.get_graph().draw_mermaid_png()))"
   ],
   "outputs": [
    {
     "data": {
      "image/png": "[encoded data removed]",
      "text/plain": [
       "<IPython.core.display.Image object>"
      ]
     },
     "metadata": {},
     "output_type": "display_data"
    }
   ],
   "execution_count": 119
  },
  {
   "cell_type": "code",
   "id": "95a7c2cc-54ce-43e7-9a90-abf37827d709",
   "metadata": {
    "ExecuteTime": {
     "end_time": "2025-03-17T15:40:21.903620Z",
     "start_time": "2025-03-17T15:40:18.428489Z"
    }
   },
   "source": [
    "# Invoke\n",
    "output = graph_with_remove_message.invoke({'messages': messages})\n",
    "for m in output['messages']:\n",
    "    m.pretty_print()"
   ],
   "outputs": [
    {
     "name": "stdout",
     "output_type": "stream",
     "text": [
      "==================================\u001B[1m Ai Message \u001B[0m==================================\n",
      "\n",
      "Hi, Lance! How can I help you?\n",
      "================================\u001B[1m Human Message \u001B[0m=================================\n",
      "\n",
      "I'm doing research about Cyprus, what I should know?\n",
      "==================================\u001B[1m Ai Message \u001B[0m==================================\n",
      "\n",
      "That's great that you are researching about Cyprus! Here are some key points you should know:\n",
      "\n",
      "1. Location: Cyprus is an island country in the eastern Mediterranean Sea and is the third largest island in the Mediterranean.\n",
      "\n",
      "2. History: Cyprus has a rich history dating back to ancient times. It has been inhabited by various civilizations, including the Greeks, Romans, Byzantines, Venetians, Ottomans, and British.\n",
      "\n",
      "3. Culture: Cyprus has a diverse culture influenced by its history and various conquerors. The culture is a blend of Greek, Turkish, and Middle Eastern influences. The official languages are Greek and Turkish.\n",
      "\n",
      "4. Economy: Cyprus has a market economy with key sectors including tourism, financial services, shipping, and agriculture. It has a high-income economy and is a member of the European Union.\n",
      "\n",
      "5. Political Situation: Cyprus is a divided country, with the northern part of the island under the control of the self-declared Turkish Republic of Northern Cyprus, recognized only by Turkey. Efforts to reunify the island have so far been unsuccessful.\n",
      "\n",
      "6. Tourism: Cyprus is a popular tourist destination known for its beautiful beaches, ancient ruins, and vibrant nightlife. The island attracts millions of visitors each year.\n",
      "\n",
      "7. Cuisine: Cypriot cuisine is influenced by Greek, Turkish, and Middle Eastern flavors. Some popular dishes include souvlaki, halloumi cheese, moussaka, and kebabs.\n",
      "\n",
      "I hope this information provides you with a good overview of Cyprus! Let me know if you have any specific questions or need more details.\n"
     ]
    }
   ],
   "execution_count": 120
  },
  {
   "metadata": {
    "ExecuteTime": {
     "end_time": "2025-03-17T15:40:28.263719Z",
     "start_time": "2025-03-17T15:40:27.459622Z"
    }
   },
   "cell_type": "code",
   "source": [
    "# Invoke\n",
    "output = graph_with_remove_message.invoke({\n",
    "    'messages': messages + [output['messages'][-1]] + [HumanMessage(f\"What is my name?\", id=\"4\")]})\n",
    "for m in output['messages']:\n",
    "    m.pretty_print()"
   ],
   "id": "9eb38fafe54511a4",
   "outputs": [
    {
     "name": "stdout",
     "output_type": "stream",
     "text": [
      "==================================\u001B[1m Ai Message \u001B[0m==================================\n",
      "\n",
      "That's great that you are researching about Cyprus! Here are some key points you should know:\n",
      "\n",
      "1. Location: Cyprus is an island country in the eastern Mediterranean Sea and is the third largest island in the Mediterranean.\n",
      "\n",
      "2. History: Cyprus has a rich history dating back to ancient times. It has been inhabited by various civilizations, including the Greeks, Romans, Byzantines, Venetians, Ottomans, and British.\n",
      "\n",
      "3. Culture: Cyprus has a diverse culture influenced by its history and various conquerors. The culture is a blend of Greek, Turkish, and Middle Eastern influences. The official languages are Greek and Turkish.\n",
      "\n",
      "4. Economy: Cyprus has a market economy with key sectors including tourism, financial services, shipping, and agriculture. It has a high-income economy and is a member of the European Union.\n",
      "\n",
      "5. Political Situation: Cyprus is a divided country, with the northern part of the island under the control of the self-declared Turkish Republic of Northern Cyprus, recognized only by Turkey. Efforts to reunify the island have so far been unsuccessful.\n",
      "\n",
      "6. Tourism: Cyprus is a popular tourist destination known for its beautiful beaches, ancient ruins, and vibrant nightlife. The island attracts millions of visitors each year.\n",
      "\n",
      "7. Cuisine: Cypriot cuisine is influenced by Greek, Turkish, and Middle Eastern flavors. Some popular dishes include souvlaki, halloumi cheese, moussaka, and kebabs.\n",
      "\n",
      "I hope this information provides you with a good overview of Cyprus! Let me know if you have any specific questions or need more details.\n",
      "================================\u001B[1m Human Message \u001B[0m=================================\n",
      "\n",
      "What is my name?\n",
      "==================================\u001B[1m Ai Message \u001B[0m==================================\n",
      "\n",
      "I'm sorry, but I don't have the ability to know your name as our interaction is text-based. If there's anything else you'd like to know or discuss, feel free to ask!\n"
     ]
    }
   ],
   "execution_count": 121
  },
  {
   "cell_type": "markdown",
   "id": "f506457d-014b-4fee-a684-e5edfb4b8f0d",
   "metadata": {},
   "source": [
    "## Option №2: Filtering messages\n",
    "\n",
    "If you don't need or want to modify the graph state, you can just filter the messages you pass to the chat model.\n",
    "\n",
    "For example, just pass in a filtered list: `llm.invoke(messages[-1:])` to the model."
   ]
  },
  {
   "cell_type": "code",
   "id": "22d0b904-7cd6-486b-8948-105bee3d4683",
   "metadata": {
    "ExecuteTime": {
     "end_time": "2025-03-17T15:40:34.001521Z",
     "start_time": "2025-03-17T15:40:33.954981Z"
    }
   },
   "source": [
    "# Node\n",
    "def call_llm_with_filter_messages(state: MessagesState):\n",
    "    return {\"messages\": [llm.invoke(state[\"messages\"][-1:])]}\n",
    "\n",
    "# Build graph\n",
    "builder = StateGraph(MessagesState)\n",
    "builder.add_node(\"call_llm_with_filter_messages\", call_llm_with_filter_messages)\n",
    "builder.add_edge(START, \"call_llm_with_filter_messages\")\n",
    "builder.add_edge(\"call_llm_with_filter_messages\", END)\n",
    "graph_with_filter_messages = builder.compile()\n",
    "\n",
    "# View\n",
    "display(Image(graph_with_filter_messages.get_graph().draw_mermaid_png()))"
   ],
   "outputs": [
    {
     "data": {
      "image/png": "[encoded data removed]",
      "text/plain": [
       "<IPython.core.display.Image object>"
      ]
     },
     "metadata": {},
     "output_type": "display_data"
    }
   ],
   "execution_count": 123
  },
  {
   "cell_type": "markdown",
   "id": "6f58c6fc-532f-418d-b70a-cfcb3307daf5",
   "metadata": {},
   "source": [
    "Let's take our existing list of messages, append the above LLM response, and append a follow-up question."
   ]
  },
  {
   "cell_type": "code",
   "id": "23349705-a059-47b5-9760-d8f64e687393",
   "metadata": {
    "ExecuteTime": {
     "end_time": "2025-03-17T15:40:54.013308Z",
     "start_time": "2025-03-17T15:40:48.136303Z"
    }
   },
   "source": [
    "# Invoke, using message filtering\n",
    "output = graph_with_filter_messages.invoke({'messages': messages})\n",
    "for m in output['messages']:\n",
    "    m.pretty_print()"
   ],
   "outputs": [
    {
     "name": "stdout",
     "output_type": "stream",
     "text": [
      "================================\u001B[1m Human Message \u001B[0m=================================\n",
      "\n",
      "Hi! I'm Lance!\n",
      "==================================\u001B[1m Ai Message \u001B[0m==================================\n",
      "\n",
      "Hi, Lance! How can I help you?\n",
      "================================\u001B[1m Human Message \u001B[0m=================================\n",
      "\n",
      "I'm doing research about Cyprus, what I should know?\n",
      "==================================\u001B[1m Ai Message \u001B[0m==================================\n",
      "\n",
      "1. Cyprus is an island country in the Eastern Mediterranean Sea, located close to Turkey, Syria, Lebanon, Israel, and Egypt. It is the third largest island in the Mediterranean.\n",
      "\n",
      "2. The official languages of Cyprus are Greek and Turkish, and English is widely spoken and understood.\n",
      "\n",
      "3. The island has a complicated political history, with ongoing tensions between the Greek Cypriot and Turkish Cypriot communities. The country has been divided since 1974 when Turkey invaded and occupied the northern part of the island.\n",
      "\n",
      "4. The capital city of Cyprus is Nicosia, which is the only divided capital in the world, with the Green Line separating the Greek Cypriot and Turkish Cypriot communities.\n",
      "\n",
      "5. Cyprus is a member of the European Union, and Euro is the official currency.\n",
      "\n",
      "6. The economy of Cyprus is largely driven by tourism, agriculture, and services. The country is also known for its shipping industry and as a financial services hub.\n",
      "\n",
      "7. Cyprus has a rich cultural heritage, with influences from Greek, Roman, Byzantine, and Ottoman civilizations. The island is known for its archaeological sites, including the ancient city of Kourion and the Tombs of the Kings in Paphos.\n",
      "\n",
      "8. The cuisine of Cyprus is a blend of Mediterranean and Middle Eastern flavors, with dishes like souvlaki, halloumi cheese, and meze being popular.\n",
      "\n",
      "9. The climate in Cyprus is typically Mediterranean, with hot and dry summers and mild winters. The island is a popular destination for beach holidays and outdoor activities like hiking and cycling.\n",
      "\n",
      "10. Keep in mind that there are specific rules and protocols to follow depending on which side of the island you are visiting (Greek or Turkish). Make sure to do some research and be respectful of local customs and traditions.\n"
     ]
    }
   ],
   "execution_count": 124
  },
  {
   "metadata": {
    "ExecuteTime": {
     "end_time": "2025-03-17T15:40:58.833493Z",
     "start_time": "2025-03-17T15:40:58.062438Z"
    }
   },
   "cell_type": "code",
   "source": [
    "output = graph_with_filter_messages.invoke({\n",
    "    'messages': output['messages'] + [HumanMessage(f\"What is my name?\")]\n",
    "})\n",
    "for m in output['messages']:\n",
    "    m.pretty_print()"
   ],
   "id": "59c6d6cefc0a34dd",
   "outputs": [
    {
     "name": "stdout",
     "output_type": "stream",
     "text": [
      "================================\u001B[1m Human Message \u001B[0m=================================\n",
      "\n",
      "Hi! I'm Lance!\n",
      "==================================\u001B[1m Ai Message \u001B[0m==================================\n",
      "\n",
      "Hi, Lance! How can I help you?\n",
      "================================\u001B[1m Human Message \u001B[0m=================================\n",
      "\n",
      "I'm doing research about Cyprus, what I should know?\n",
      "==================================\u001B[1m Ai Message \u001B[0m==================================\n",
      "\n",
      "1. Cyprus is an island country in the Eastern Mediterranean Sea, located close to Turkey, Syria, Lebanon, Israel, and Egypt. It is the third largest island in the Mediterranean.\n",
      "\n",
      "2. The official languages of Cyprus are Greek and Turkish, and English is widely spoken and understood.\n",
      "\n",
      "3. The island has a complicated political history, with ongoing tensions between the Greek Cypriot and Turkish Cypriot communities. The country has been divided since 1974 when Turkey invaded and occupied the northern part of the island.\n",
      "\n",
      "4. The capital city of Cyprus is Nicosia, which is the only divided capital in the world, with the Green Line separating the Greek Cypriot and Turkish Cypriot communities.\n",
      "\n",
      "5. Cyprus is a member of the European Union, and Euro is the official currency.\n",
      "\n",
      "6. The economy of Cyprus is largely driven by tourism, agriculture, and services. The country is also known for its shipping industry and as a financial services hub.\n",
      "\n",
      "7. Cyprus has a rich cultural heritage, with influences from Greek, Roman, Byzantine, and Ottoman civilizations. The island is known for its archaeological sites, including the ancient city of Kourion and the Tombs of the Kings in Paphos.\n",
      "\n",
      "8. The cuisine of Cyprus is a blend of Mediterranean and Middle Eastern flavors, with dishes like souvlaki, halloumi cheese, and meze being popular.\n",
      "\n",
      "9. The climate in Cyprus is typically Mediterranean, with hot and dry summers and mild winters. The island is a popular destination for beach holidays and outdoor activities like hiking and cycling.\n",
      "\n",
      "10. Keep in mind that there are specific rules and protocols to follow depending on which side of the island you are visiting (Greek or Turkish). Make sure to do some research and be respectful of local customs and traditions.\n",
      "================================\u001B[1m Human Message \u001B[0m=================================\n",
      "\n",
      "What is my name?\n",
      "==================================\u001B[1m Ai Message \u001B[0m==================================\n",
      "\n",
      "I'm sorry, I don't have access to your name. Can you please provide it?\n"
     ]
    }
   ],
   "execution_count": 125
  },
  {
   "cell_type": "markdown",
   "id": "42e1d8d2-e297-4d78-b54c-d12b3c866745",
   "metadata": {},
   "source": "The state has all the messages, but because first to messages are not passed to the context, we miss information about the name"
  },
  {
   "cell_type": "markdown",
   "id": "fc40d930-3c1f-47fe-8d2a-ce174873353c",
   "metadata": {},
   "source": [
    "## Option №3: Trimming messages\n",
    "\n",
    "Another approach is to [trim messages](https://python.langchain.com/v0.2/docs/how_to/trim_messages/#getting-the-last-max_tokens-tokens), based upon a set number of tokens. \n",
    "\n",
    "This restricts the message history to a specified number of tokens.\n",
    "\n",
    "While filtering only returns a post-hoc subset of the messages between agents, trimming restricts the number of tokens that a chat model can use to respond.\n",
    "\n",
    "See the `trim_messages` below."
   ]
  },
  {
   "cell_type": "code",
   "id": "2ff99b81-cf03-4cc2-b44f-44829a73e1fd",
   "metadata": {
    "ExecuteTime": {
     "end_time": "2025-03-17T15:41:16.644122Z",
     "start_time": "2025-03-17T15:41:16.468569Z"
    }
   },
   "source": [
    "from langchain_core.messages import trim_messages\n",
    "\n",
    "# Node\n",
    "def call_llm_with_trim_messages(state: MessagesState):\n",
    "    messages = trim_messages(\n",
    "            state[\"messages\"],\n",
    "            max_tokens=100,\n",
    "            strategy=\"last\",\n",
    "            token_counter=ChatOpenAI(model=\"gpt-3.5-turbo\"),\n",
    "            allow_partial=False,\n",
    "        )\n",
    "    return {\"messages\": [llm.invoke(messages)]}\n",
    "\n",
    "# Build graph\n",
    "builder = StateGraph(MessagesState)\n",
    "builder.add_node(\"call_llm_with_trim_messages\", call_llm_with_trim_messages)\n",
    "builder.add_edge(START, \"call_llm_with_trim_messages\")\n",
    "builder.add_edge(\"call_llm_with_trim_messages\", END)\n",
    "graph_with_trim_messages = builder.compile()\n",
    "\n",
    "# View\n",
    "display(Image(graph_with_trim_messages.get_graph().draw_mermaid_png()))"
   ],
   "outputs": [
    {
     "data": {
      "image/png": "[encoded data removed]",
      "text/plain": [
       "<IPython.core.display.Image object>"
      ]
     },
     "metadata": {},
     "output_type": "display_data"
    }
   ],
   "execution_count": 126
  },
  {
   "metadata": {
    "ExecuteTime": {
     "end_time": "2025-03-17T15:44:33.192691Z",
     "start_time": "2025-03-17T15:44:30.371775Z"
    }
   },
   "cell_type": "code",
   "source": [
    "# Invoke, using message filtering\n",
    "output = graph_with_trim_messages.invoke({'messages': messages})\n",
    "for m in output['messages']:\n",
    "    m.pretty_print()"
   ],
   "id": "cb1d45c692c7f016",
   "outputs": [
    {
     "name": "stdout",
     "output_type": "stream",
     "text": [
      "================================\u001B[1m Human Message \u001B[0m=================================\n",
      "\n",
      "Hi! I'm Lance!\n",
      "==================================\u001B[1m Ai Message \u001B[0m==================================\n",
      "\n",
      "Hi, Lance! How can I help you?\n",
      "================================\u001B[1m Human Message \u001B[0m=================================\n",
      "\n",
      "I'm doing research about Cyprus, what I should know?\n",
      "==================================\u001B[1m Ai Message \u001B[0m==================================\n",
      "\n",
      "That's great! There are many interesting facts about Cyprus. Here are a few key points you should know:\n",
      "\n",
      "1. Cyprus is an island country located in the Eastern Mediterranean Sea, south of Turkey and west of Syria and Lebanon.\n",
      "\n",
      "2. The capital city of Cyprus is Nicosia, which is also the largest city on the island.\n",
      "\n",
      "3. The official languages of Cyprus are Greek and Turkish, reflecting the divided nature of the country. There is a UN-patrolled buffer zone that divides the island between the Greek Cypriot south and the Turkish Cypriot north.\n",
      "\n",
      "4. Cyprus has a rich history dating back to ancient times, with influences from various civilizations including the Byzantines, Romans, and Ottomans.\n",
      "\n",
      "5. The economy of Cyprus is largely driven by tourism, services, and shipping. It is also known for its citrus fruits, grapes, and wine production.\n",
      "\n",
      "6. The island is home to many beautiful beaches, archaeological sites, and picturesque villages.\n",
      "\n",
      "7. Cyprus is a member of the European Union and uses the Euro as its currency.\n",
      "\n",
      "I hope this information helps with your research on Cyprus! Let me know if you have any other questions.\n"
     ]
    }
   ],
   "execution_count": 134
  },
  {
   "cell_type": "code",
   "id": "6d9d8971-c75c-43ca-a209-eb1d07b2ead0",
   "metadata": {
    "ExecuteTime": {
     "end_time": "2025-03-17T15:44:48.853437Z",
     "start_time": "2025-03-17T15:44:48.840306Z"
    }
   },
   "source": [
    "# Example of trimming messages\n",
    "trim_messages(\n",
    "            output['messages'],\n",
    "            max_tokens=250,\n",
    "            strategy=\"last\",\n",
    "            token_counter=ChatOpenAI(model=\"gpt-3.5-turbo\"),\n",
    "            allow_partial=False\n",
    "        )"
   ],
   "outputs": [
    {
     "data": {
      "text/plain": [
       "[AIMessage(content=\"That's great! There are many interesting facts about Cyprus. Here are a few key points you should know:\\n\\n1. Cyprus is an island country located in the Eastern Mediterranean Sea, south of Turkey and west of Syria and Lebanon.\\n\\n2. The capital city of Cyprus is Nicosia, which is also the largest city on the island.\\n\\n3. The official languages of Cyprus are Greek and Turkish, reflecting the divided nature of the country. There is a UN-patrolled buffer zone that divides the island between the Greek Cypriot south and the Turkish Cypriot north.\\n\\n4. Cyprus has a rich history dating back to ancient times, with influences from various civilizations including the Byzantines, Romans, and Ottomans.\\n\\n5. The economy of Cyprus is largely driven by tourism, services, and shipping. It is also known for its citrus fruits, grapes, and wine production.\\n\\n6. The island is home to many beautiful beaches, archaeological sites, and picturesque villages.\\n\\n7. Cyprus is a member of the European Union and uses the Euro as its currency.\\n\\nI hope this information helps with your research on Cyprus! Let me know if you have any other questions.\", additional_kwargs={'refusal': None}, response_metadata={'token_usage': {'completion_tokens': 237, 'prompt_tokens': 43, 'total_tokens': 280, 'completion_tokens_details': {'accepted_prediction_tokens': 0, 'audio_tokens': 0, 'reasoning_tokens': 0, 'rejected_prediction_tokens': 0}, 'prompt_tokens_details': {'audio_tokens': 0, 'cached_tokens': 0}}, 'model_name': 'gpt-3.5-turbo-0125', 'system_fingerprint': None, 'finish_reason': 'stop', 'logprobs': None}, id='run-10cc110b-d6c5-45ff-b73a-f581017004ce-0', usage_metadata={'input_tokens': 43, 'output_tokens': 237, 'total_tokens': 280, 'input_token_details': {'audio': 0, 'cache_read': 0}, 'output_token_details': {'audio': 0, 'reasoning': 0}})]"
      ]
     },
     "execution_count": 138,
     "metadata": {},
     "output_type": "execute_result"
    }
   ],
   "execution_count": 138
  },
  {
   "metadata": {
    "ExecuteTime": {
     "end_time": "2025-03-17T15:44:59.530228Z",
     "start_time": "2025-03-17T15:44:58.778641Z"
    }
   },
   "cell_type": "code",
   "source": [
    "output = graph_with_filter_messages.invoke({\n",
    "    'messages': output['messages'] + [HumanMessage(f\"What we were talking about?\")]\n",
    "})\n",
    "for m in output['messages']:\n",
    "    m.pretty_print()"
   ],
   "id": "991d9d92933491",
   "outputs": [
    {
     "name": "stdout",
     "output_type": "stream",
     "text": [
      "================================\u001B[1m Human Message \u001B[0m=================================\n",
      "\n",
      "Hi! I'm Lance!\n",
      "==================================\u001B[1m Ai Message \u001B[0m==================================\n",
      "\n",
      "Hi, Lance! How can I help you?\n",
      "================================\u001B[1m Human Message \u001B[0m=================================\n",
      "\n",
      "I'm doing research about Cyprus, what I should know?\n",
      "==================================\u001B[1m Ai Message \u001B[0m==================================\n",
      "\n",
      "That's great! There are many interesting facts about Cyprus. Here are a few key points you should know:\n",
      "\n",
      "1. Cyprus is an island country located in the Eastern Mediterranean Sea, south of Turkey and west of Syria and Lebanon.\n",
      "\n",
      "2. The capital city of Cyprus is Nicosia, which is also the largest city on the island.\n",
      "\n",
      "3. The official languages of Cyprus are Greek and Turkish, reflecting the divided nature of the country. There is a UN-patrolled buffer zone that divides the island between the Greek Cypriot south and the Turkish Cypriot north.\n",
      "\n",
      "4. Cyprus has a rich history dating back to ancient times, with influences from various civilizations including the Byzantines, Romans, and Ottomans.\n",
      "\n",
      "5. The economy of Cyprus is largely driven by tourism, services, and shipping. It is also known for its citrus fruits, grapes, and wine production.\n",
      "\n",
      "6. The island is home to many beautiful beaches, archaeological sites, and picturesque villages.\n",
      "\n",
      "7. Cyprus is a member of the European Union and uses the Euro as its currency.\n",
      "\n",
      "I hope this information helps with your research on Cyprus! Let me know if you have any other questions.\n",
      "================================\u001B[1m Human Message \u001B[0m=================================\n",
      "\n",
      "What we were talking about?\n",
      "==================================\u001B[1m Ai Message \u001B[0m==================================\n",
      "\n",
      "I'm sorry, I don't have the context of our conversation. Could you please provide more information or ask a specific question so I can assist you better?\n"
     ]
    }
   ],
   "execution_count": 139
  }
 ],
 "metadata": {
  "kernelspec": {
   "display_name": "Python 3 (ipykernel)",
   "language": "python",
   "name": "python3"
  },
  "language_info": {
   "codemirror_mode": {
    "name": "ipython",
    "version": 3
   },
   "file_extension": ".py",
   "mimetype": "text/x-python",
   "name": "python",
   "nbconvert_exporter": "python",
   "pygments_lexer": "ipython3",
   "version": "3.12.1"
  }
 },
 "nbformat": 4,
 "nbformat_minor": 5
}
