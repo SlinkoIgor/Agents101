{
 "cells": [
  {
   "cell_type": "markdown",
   "id": "fb0ebaf1",
   "metadata": {},
   "source": [
    "[![Open in Colab](https://colab.research.google.com/assets/colab-badge.svg)](https://colab.research.google.com/github/langchain-ai/langchain-academy/blob/main/module-2/trim-filter-messages.ipynb) [![Open in LangChain Academy](https://cdn.prod.website-files.com/65b8cd72835ceeacd4449a53/66e9eba12c7b7688aa3dbb5e_LCA-badge-green.svg)](https://academy.langchain.com/courses/take/intro-to-langgraph/lessons/58239435-lesson-4-trim-and-filter-messages)"
   ]
  },
  {
   "cell_type": "markdown",
   "id": "c52ea2f9-03ff-4647-b782-46867ebed04e",
   "metadata": {},
   "source": [
    "# Filtering and trimming messages\n",
    "\n",
    "In the next few sessions, we'll build towards a chatbot that has long-term memory and start with context management approaches like filtering and trimming"
   ]
  },
  {
   "cell_type": "code",
   "id": "d5197aba-5d46-421b-ae3b-4e3034edcfda",
   "metadata": {
    "ExecuteTime": {
     "end_time": "2025-03-22T10:18:34.056236Z",
     "start_time": "2025-03-22T10:18:32.608680Z"
    }
   },
   "source": [
    "%%capture --no-stderr\n",
    "%pip install --quiet -U langchain_core langgraph langchain_openai"
   ],
   "outputs": [],
   "execution_count": 25
  },
  {
   "cell_type": "code",
   "id": "768dc606-d5f2-468d-96ea-910b264e0f8a",
   "metadata": {
    "ExecuteTime": {
     "end_time": "2025-03-22T10:18:34.063605Z",
     "start_time": "2025-03-22T10:18:34.060946Z"
    }
   },
   "source": [
    "import os, getpass\n",
    "\n",
    "def _set_env(var: str):\n",
    "    if not os.environ.get(var):\n",
    "        os.environ[var] = getpass.getpass(f\"{var}: \")\n",
    "\n",
    "_set_env(\"OPENAI_API_KEY\")"
   ],
   "outputs": [],
   "execution_count": 26
  },
  {
   "cell_type": "markdown",
   "id": "72f3fc90-58b6-4f7f-897e-dddf6ae532c7",
   "metadata": {},
   "source": [
    "## Model\n",
    "Different models may have different context window size.\n",
    "* Check here for OpenAI models: https://platform.openai.com/docs/models\n",
    "* To check context window size in transformer-based models in Hugging Face you need to look into 'max_position_embeddings' field 'config.json' in repo files https://huggingface.co/Qwen/QwQ-32B/blob/main/config.json"
   ]
  },
  {
   "metadata": {
    "ExecuteTime": {
     "end_time": "2025-03-22T10:18:34.083804Z",
     "start_time": "2025-03-22T10:18:34.071495Z"
    }
   },
   "cell_type": "code",
   "source": [
    "from langchain_openai import ChatOpenAI\n",
    "llm = ChatOpenAI(model=\"gpt-3.5-turbo\") # Q: what is the context window size for GPT-3.5-turbo, GPT-4o?"
   ],
   "id": "4712e288-e622-48a2-ad3f-a52f65f3ab08",
   "outputs": [],
   "execution_count": 27
  },
  {
   "metadata": {},
   "cell_type": "markdown",
   "source": [
    "## Large Context and Attention Spread in LLMs\n",
    "This example demonstrates how processing a large list of messages can influence a model's attention, influencing its output. It highlights the importance of **filtering context** in agent-based systems to **ensure accuracy and save money**!"
   ],
   "id": "9c20b91a4c234298"
  },
  {
   "metadata": {},
   "cell_type": "markdown",
   "source": "Let's consider synthetic example: llm is given a list of integers 1..N where M integers are missed. The task of llm is to detect missing numbers.",
   "id": "a6ecc6628daf1cb0"
  },
  {
   "metadata": {
    "ExecuteTime": {
     "end_time": "2025-03-22T10:18:34.092833Z",
     "start_time": "2025-03-22T10:18:34.089830Z"
    }
   },
   "cell_type": "code",
   "source": [
    "import random\n",
    "import ast\n",
    "\n",
    "# Generate a large list of numbers\n",
    "N = 1001 # Q: what will happen if I change to 1001? 10001?\n",
    "M = 50 # Q: what will happen if I change M to 10? 100?\n",
    "\n",
    "full_list = list(range(1, N))  # 1 to N\n",
    "removed_numbers = random.sample(full_list, M)  # Remove 50 random numbers\n",
    "incomplete_list = [num for num in full_list if num not in removed_numbers]\n",
    "\n",
    "def get_prompt(large_input, n) -> str:\n",
    "    return (f\"Here is a list of numbers from 1 to {n} (some are missing): {large_input}\\n\"\n",
    "              f\"Can you identify which numbers are missing? Return ONLY python list of missing numbers.\")\n",
    "\n",
    "# Function to simulate an LLM's attention limitation\n",
    "def ask_llm(prompt: str) -> list[int]:\n",
    "    response = llm.invoke(prompt)\n",
    "    # Transform output to python code. Not safe, in case of failure rerun\n",
    "    return ast.literal_eval(response.content)"
   ],
   "id": "79853f75faa15ee1",
   "outputs": [],
   "execution_count": 28
  },
  {
   "metadata": {
    "ExecuteTime": {
     "end_time": "2025-03-22T10:18:37.149660Z",
     "start_time": "2025-03-22T10:18:34.098378Z"
    }
   },
   "cell_type": "code",
   "source": [
    "# Run simulation\n",
    "prompt = get_prompt(incomplete_list, N)\n",
    "detected = ask_llm(prompt)\n",
    "print(f\"Detected missing numbers (model's response): {detected}\")\n",
    "print(f\"Actual missing numbers: {removed_numbers}\")\n",
    "\n",
    "# Show difference\n",
    "missed = set(removed_numbers) - set(detected)\n",
    "success = set(detected) - set(missed)\n",
    "wrong = set(detected) - set(removed_numbers)\n",
    "if missed:\n",
    "    print(f\"Numbers the model failed to detect: {missed}\")\n",
    "    print(f\"Numbers the model succeeded to detect: {success}\")\n",
    "    print(f\"Wrong numbers detected by the model: {wrong}\")\n",
    "else:\n",
    "    print(\"The model correctly detected all missing numbers!\")"
   ],
   "id": "88976464c092ef2d",
   "outputs": [
    {
     "name": "stdout",
     "output_type": "stream",
     "text": [
      "Detected missing numbers (model's response): [17, 35, 60, 72, 92, 96, 100, 114, 143, 149, 157, 192, 201, 203, 217, 248, 280, 313, 319, 321, 338, 341, 346, 357, 360, 364, 375, 398, 470, 497, 537, 578, 589, 611, 634, 642, 662, 671, 682, 712, 732, 796, 810, 820, 836, 880, 900, 920, 950, 990]\n",
      "Actual missing numbers: [321, 157, 248, 17, 357, 92, 313, 375, 671, 578, 374, 611, 203, 143, 642, 60, 634, 537, 799, 346, 796, 880, 72, 100, 96, 149, 418, 489, 820, 421, 732, 470, 341, 836, 35, 724, 201, 364, 114, 360, 589, 810, 280, 192, 990, 454, 497, 319, 662, 712]\n",
      "Numbers the model failed to detect: {418, 421, 454, 489, 724, 374, 799}\n",
      "Numbers the model succeeded to detect: {642, 900, 398, 143, 17, 149, 662, 280, 537, 920, 796, 157, 671, 35, 682, 810, 820, 950, 313, 60, 319, 192, 321, 578, 836, 72, 201, 712, 203, 589, 338, 341, 470, 217, 346, 92, 732, 990, 96, 611, 100, 357, 360, 364, 880, 497, 114, 375, 248, 634}\n",
      "Wrong numbers detected by the model: {900, 682, 398, 338, 950, 920, 217}\n"
     ]
    }
   ],
   "execution_count": 29
  },
  {
   "metadata": {},
   "cell_type": "markdown",
   "source": [
    "## Tiktoken\n",
    "To estimate the number of tokens, you can use tiktoken library https://pypi.org/project/tiktoken/"
   ],
   "id": "e02bba053c158569"
  },
  {
   "metadata": {
    "ExecuteTime": {
     "end_time": "2025-03-22T10:18:37.167020Z",
     "start_time": "2025-03-22T10:18:37.163171Z"
    }
   },
   "cell_type": "code",
   "source": [
    "import tiktoken\n",
    "\n",
    "# Initialize the tokenizer for a specific model (e.g., \"gpt-4\" or \"gpt-3.5-turbo\")\n",
    "model_name = \"gpt-3.5-turbo\"\n",
    "enc = tiktoken.encoding_for_model(model_name)\n",
    "\n",
    "# Tokenize and count tokens\n",
    "tokens = enc.encode(prompt)\n",
    "token_count = len(tokens)\n",
    "\n",
    "# Display results\n",
    "print(f\"Token Count: {token_count}\")"
   ],
   "id": "54848019c48cce9f",
   "outputs": [
    {
     "name": "stdout",
     "output_type": "stream",
     "text": [
      "Token Count: 2885\n"
     ]
    }
   ],
   "execution_count": 30
  },
  {
   "cell_type": "markdown",
   "id": "fbd1dab8-0af8-4621-8264-ce65065f76ec",
   "metadata": {},
   "source": [
    "## Agent's Context\n",
    "Messages content form the context of the llm in agents. Long-running conversations result in high token usage and latency if we are not careful, because we pass a growing list of messages to the model. That is why blindly passing all messages from state to the llm is not always a good idea, so we want to manage them."
   ]
  },
  {
   "metadata": {},
   "cell_type": "markdown",
   "source": "Let's first define a simple graph with `MessagesState`",
   "id": "e55884cd945074b2"
  },
  {
   "metadata": {
    "ExecuteTime": {
     "end_time": "2025-03-22T10:18:37.225834Z",
     "start_time": "2025-03-22T10:18:37.180589Z"
    }
   },
   "cell_type": "code",
   "source": [
    "from IPython.display import Image, display\n",
    "from langgraph.graph import MessagesState\n",
    "from langgraph.graph import StateGraph, START, END\n",
    "\n",
    "# Node\n",
    "def call_llm(state: MessagesState):\n",
    "    return {\"messages\": llm.invoke(state[\"messages\"])}\n",
    "\n",
    "# Build graph\n",
    "builder = StateGraph(MessagesState)\n",
    "builder.add_node(\"call_llm\", call_llm)\n",
    "builder.add_edge(START, \"call_llm\")\n",
    "builder.add_edge(\"call_llm\", END)\n",
    "graph = builder.compile()\n",
    "\n",
    "# View\n",
    "display(Image(graph.get_graph().draw_mermaid_png()))"
   ],
   "id": "bbd8c39c-633b-4176-9cc6-8318e42bb5dd",
   "outputs": [
    {
     "data": {
      "image/png": "[encoded data removed]",
      "text/plain": [
       "<IPython.core.display.Image object>"
      ]
     },
     "metadata": {},
     "output_type": "display_data"
    }
   ],
   "execution_count": 31
  },
  {
   "metadata": {
    "ExecuteTime": {
     "end_time": "2025-03-22T10:18:41.256828Z",
     "start_time": "2025-03-22T10:18:37.231642Z"
    }
   },
   "cell_type": "code",
   "source": [
    "from langchain_core.messages import HumanMessage, AIMessage\n",
    "\n",
    "# Message list with a preamble\n",
    "messages = [\n",
    "    HumanMessage(f\"Hi! I'm Lance!\", id=\"1\"),\n",
    "    AIMessage(f\"Hi, Lance! How can I help you?\", id=\"2\"),\n",
    "    HumanMessage(f\"I'm doing research about Cyprus, what I should know?\", id=\"3\"),\n",
    "]\n",
    "\n",
    "result = graph.invoke({'messages': messages})\n",
    "\n",
    "for m in result['messages']:\n",
    "    m.pretty_print()"
   ],
   "id": "cf11a463-e27a-4a05-b41d-64882e38edca",
   "outputs": [
    {
     "name": "stdout",
     "output_type": "stream",
     "text": [
      "================================\u001B[1m Human Message \u001B[0m=================================\n",
      "\n",
      "Hi! I'm Lance!\n",
      "==================================\u001B[1m Ai Message \u001B[0m==================================\n",
      "\n",
      "Hi, Lance! How can I help you?\n",
      "================================\u001B[1m Human Message \u001B[0m=================================\n",
      "\n",
      "I'm doing research about Cyprus, what I should know?\n",
      "==================================\u001B[1m Ai Message \u001B[0m==================================\n",
      "\n",
      "Cyprus is an island country located in the Mediterranean Sea, south of Turkey and southeast of Greece. Here are some key points you should know about Cyprus:\n",
      "\n",
      "1. Cyprus is known for its rich history and diverse cultural influences. It has been inhabited since ancient times and has been ruled by various empires including the Greeks, Romans, Byzantines, and Ottomans.\n",
      "\n",
      "2. The island is divided between the Republic of Cyprus in the south and the self-declared Turkish Republic of Northern Cyprus in the north. This division came about following a conflict in 1974 and continues to be a point of contention between the two communities.\n",
      "\n",
      "3. The capital city of Cyprus is Nicosia, which is the last divided capital in the world. The city is split in two by the Green Line, which serves as a buffer zone between the Greek Cypriot and Turkish Cypriot communities.\n",
      "\n",
      "4. Cyprus is a popular tourist destination known for its beautiful beaches, ancient ruins, and picturesque villages. The island also offers a rich culinary scene featuring traditional Cypriot dishes such as souvlaki, halloumi cheese, and moussaka.\n",
      "\n",
      "5. The economy of Cyprus is largely based on tourism, shipping, and services. The country is also known for its significant offshore banking and finance industry.\n",
      "\n",
      "6. The official languages of Cyprus are Greek and Turkish, with English widely spoken as a second language.\n",
      "\n",
      "7. Cyprus has a Mediterranean climate with hot, dry summers and mild, wet winters. The island experiences plenty of sunshine throughout the year, making it a popular holiday destination.\n",
      "\n",
      "These are just a few key points about Cyprus. If you have any specific questions or need more information, feel free to ask!\n"
     ]
    }
   ],
   "execution_count": 32
  },
  {
   "metadata": {},
   "cell_type": "markdown",
   "source": [
    "## Option №1: Filtering messages\n",
    "\n",
    "If you don't need or want to modify the graph state, you can just filter the messages you pass to the chat model.\n",
    "\n",
    "For example, just pass in a filtered list: `llm.invoke(messages[-1:])` to the model."
   ],
   "id": "f506457d-014b-4fee-a684-e5edfb4b8f0d"
  },
  {
   "cell_type": "code",
   "id": "22d0b904-7cd6-486b-8948-105bee3d4683",
   "metadata": {
    "ExecuteTime": {
     "end_time": "2025-03-22T10:18:41.311181Z",
     "start_time": "2025-03-22T10:18:41.269664Z"
    }
   },
   "source": [
    "# Node\n",
    "def call_llm_with_filter_messages(state: MessagesState):\n",
    "    filtered_messages = state[\"messages\"][-2:]\n",
    "    message = llm.invoke(filtered_messages)\n",
    "    return {\"messages\": [message]}\n",
    "\n",
    "# Build graph\n",
    "builder = StateGraph(MessagesState)\n",
    "builder.add_node(\"call_llm_with_filter_messages\", call_llm_with_filter_messages)\n",
    "builder.add_edge(START, \"call_llm_with_filter_messages\")\n",
    "builder.add_edge(\"call_llm_with_filter_messages\", END)\n",
    "graph_with_filter_messages = builder.compile()\n",
    "\n",
    "# View\n",
    "display(Image(graph_with_filter_messages.get_graph().draw_mermaid_png()))"
   ],
   "outputs": [
    {
     "data": {
      "image/png": "[encoded data removed]",
      "text/plain": [
       "<IPython.core.display.Image object>"
      ]
     },
     "metadata": {},
     "output_type": "display_data"
    }
   ],
   "execution_count": 33
  },
  {
   "cell_type": "code",
   "id": "23349705-a059-47b5-9760-d8f64e687393",
   "metadata": {
    "ExecuteTime": {
     "end_time": "2025-03-22T10:18:43.440981Z",
     "start_time": "2025-03-22T10:18:41.320608Z"
    }
   },
   "source": [
    "# Invoke, using message filtering\n",
    "output = graph_with_filter_messages.invoke({'messages': messages}) # Q: What you messages you expect in output?\n",
    "for m in output['messages']:\n",
    "    m.pretty_print()"
   ],
   "outputs": [
    {
     "name": "stdout",
     "output_type": "stream",
     "text": [
      "================================\u001B[1m Human Message \u001B[0m=================================\n",
      "\n",
      "Hi! I'm Lance!\n",
      "==================================\u001B[1m Ai Message \u001B[0m==================================\n",
      "\n",
      "Hi, Lance! How can I help you?\n",
      "================================\u001B[1m Human Message \u001B[0m=================================\n",
      "\n",
      "I'm doing research about Cyprus, what I should know?\n",
      "==================================\u001B[1m Ai Message \u001B[0m==================================\n",
      "\n",
      "That's great! Here are some key points about Cyprus that you should know for your research:\n",
      "\n",
      "1. Geography: Cyprus is an island country located in the Eastern Mediterranean Sea. It is the third largest island in the Mediterranean.\n",
      "\n",
      "2. History: Cyprus has a rich history dating back to ancient times, with influences from various civilizations including the Greek, Roman, Byzantine, and Ottoman empires.\n",
      "\n",
      "3. Culture: The culture of Cyprus is a blend of Greek, Turkish, and Middle Eastern influences. The official languages are Greek and Turkish, and the majority religion is Greek Orthodox Christianity.\n",
      "\n",
      "4. Economy: Tourism is a major industry in Cyprus, with its beautiful beaches and historic sites attracting visitors from around the world. Cyprus is also known for its shipping industry and financial services sector.\n",
      "\n",
      "5. Politics: Cyprus has been divided into the Republic of Cyprus and the self-declared Turkish Republic of Northern Cyprus since a conflict in the 1970s. Efforts to reunify the island have been ongoing.\n",
      "\n",
      "These points should give you a good starting point for your research on Cyprus. Let me know if you need more information on any specific aspect!\n"
     ]
    }
   ],
   "execution_count": 34
  },
  {
   "metadata": {
    "ExecuteTime": {
     "end_time": "2025-03-22T10:18:44.174933Z",
     "start_time": "2025-03-22T10:18:43.506705Z"
    }
   },
   "cell_type": "code",
   "source": [
    "output = graph_with_filter_messages.invoke({\n",
    "    'messages': output['messages'] + [HumanMessage(f\"What is my name?\")] # Q: What you messages you expect in the output?\n",
    "})\n",
    "for m in output['messages']:\n",
    "    m.pretty_print()"
   ],
   "id": "59c6d6cefc0a34dd",
   "outputs": [
    {
     "name": "stdout",
     "output_type": "stream",
     "text": [
      "================================\u001B[1m Human Message \u001B[0m=================================\n",
      "\n",
      "Hi! I'm Lance!\n",
      "==================================\u001B[1m Ai Message \u001B[0m==================================\n",
      "\n",
      "Hi, Lance! How can I help you?\n",
      "================================\u001B[1m Human Message \u001B[0m=================================\n",
      "\n",
      "I'm doing research about Cyprus, what I should know?\n",
      "==================================\u001B[1m Ai Message \u001B[0m==================================\n",
      "\n",
      "That's great! Here are some key points about Cyprus that you should know for your research:\n",
      "\n",
      "1. Geography: Cyprus is an island country located in the Eastern Mediterranean Sea. It is the third largest island in the Mediterranean.\n",
      "\n",
      "2. History: Cyprus has a rich history dating back to ancient times, with influences from various civilizations including the Greek, Roman, Byzantine, and Ottoman empires.\n",
      "\n",
      "3. Culture: The culture of Cyprus is a blend of Greek, Turkish, and Middle Eastern influences. The official languages are Greek and Turkish, and the majority religion is Greek Orthodox Christianity.\n",
      "\n",
      "4. Economy: Tourism is a major industry in Cyprus, with its beautiful beaches and historic sites attracting visitors from around the world. Cyprus is also known for its shipping industry and financial services sector.\n",
      "\n",
      "5. Politics: Cyprus has been divided into the Republic of Cyprus and the self-declared Turkish Republic of Northern Cyprus since a conflict in the 1970s. Efforts to reunify the island have been ongoing.\n",
      "\n",
      "These points should give you a good starting point for your research on Cyprus. Let me know if you need more information on any specific aspect!\n",
      "================================\u001B[1m Human Message \u001B[0m=================================\n",
      "\n",
      "What is my name?\n",
      "==================================\u001B[1m Ai Message \u001B[0m==================================\n",
      "\n",
      "I don't have access to personal information about users. If you'd like to share your name with me, feel free to do so! Let me know how else I can assist you.\n"
     ]
    }
   ],
   "execution_count": 35
  },
  {
   "cell_type": "markdown",
   "id": "42e1d8d2-e297-4d78-b54c-d12b3c866745",
   "metadata": {},
   "source": "The state has all the messages, but because first to messages are not passed to the context, we miss information about the name"
  },
  {
   "metadata": {},
   "cell_type": "markdown",
   "source": [
    "## Option №2: RemoveMessage\n",
    "\n",
    "`RemoveMessage` is a special type of message, which you can put into the `messages` list setting the message id you want to delete. The deletion will be executed by `add_messages` reducer while applying state diff.\n",
    "\n",
    "So the possible solution can be as following: let's just delete the first messages in chat, leaving only the 2 most recent messages"
   ],
   "id": "34c33e63-1ef4-412d-bb10-6a1b9e5b35a7"
  },
  {
   "metadata": {
    "ExecuteTime": {
     "end_time": "2025-03-22T10:18:44.237136Z",
     "start_time": "2025-03-22T10:18:44.187949Z"
    }
   },
   "cell_type": "code",
   "source": [
    "from langchain_core.messages import RemoveMessage\n",
    "\n",
    "# Nodes\n",
    "def remove_messages(state: MessagesState):\n",
    "    # Delete all but the 2 most recent messages\n",
    "    delete_messages = [RemoveMessage(id=m.id) for m in state[\"messages\"][:-2]]\n",
    "    return {\"messages\": delete_messages}\n",
    "\n",
    "def call_llm(state: MessagesState):\n",
    "    return {\"messages\": [llm.invoke(state[\"messages\"])]}\n",
    "\n",
    "# Build graph\n",
    "builder = StateGraph(MessagesState)\n",
    "builder.add_node(\"remove_messages\", remove_messages)\n",
    "builder.add_node(\"call_llm\", call_llm)\n",
    "builder.add_edge(START, \"remove_messages\")\n",
    "builder.add_edge(\"remove_messages\", \"call_llm\")\n",
    "builder.add_edge(\"call_llm\", END)\n",
    "graph_with_remove_message = builder.compile()\n",
    "\n",
    "# View\n",
    "display(Image(graph_with_remove_message.get_graph().draw_mermaid_png()))"
   ],
   "id": "222c6bc5-bb0e-4a43-80f5-c8ec38d99f3a",
   "outputs": [
    {
     "data": {
      "image/png": "[encoded data removed]",
      "text/plain": [
       "<IPython.core.display.Image object>"
      ]
     },
     "metadata": {},
     "output_type": "display_data"
    }
   ],
   "execution_count": 36
  },
  {
   "metadata": {
    "ExecuteTime": {
     "end_time": "2025-03-22T10:18:47.193322Z",
     "start_time": "2025-03-22T10:18:44.245572Z"
    }
   },
   "cell_type": "code",
   "source": [
    "# Invoke\n",
    "output = graph_with_remove_message.invoke({'messages': messages}) # Q: What you messages you expect in the output?\n",
    "for m in output['messages']:\n",
    "    m.pretty_print()"
   ],
   "id": "95a7c2cc-54ce-43e7-9a90-abf37827d709",
   "outputs": [
    {
     "name": "stdout",
     "output_type": "stream",
     "text": [
      "==================================\u001B[1m Ai Message \u001B[0m==================================\n",
      "\n",
      "Hi, Lance! How can I help you?\n",
      "================================\u001B[1m Human Message \u001B[0m=================================\n",
      "\n",
      "I'm doing research about Cyprus, what I should know?\n",
      "==================================\u001B[1m Ai Message \u001B[0m==================================\n",
      "\n",
      "That's great! Cyprus is a fascinating country with a rich history and vibrant culture. Here are some key points to consider for your research:\n",
      "\n",
      "1. Location: Cyprus is an island country located in the Eastern Mediterranean Sea, south of Turkey and west of Syria and Lebanon.\n",
      "\n",
      "2. History: Cyprus has a long and complex history that dates back to ancient times. The island has been ruled by various civilizations, including the Greeks, Romans, Byzantines, and Ottomans. In 1960, Cyprus gained independence from British colonial rule.\n",
      "\n",
      "3. Division: Cyprus is a divided country, with the northern part of the island being controlled by the self-declared Turkish Republic of Northern Cyprus, recognized only by Turkey. The southern part is the internationally recognized Republic of Cyprus.\n",
      "\n",
      "4. Culture: Cyprus has a diverse cultural heritage influenced by its history and geography. The island's cuisine, music, and dance reflect this rich mix of influences.\n",
      "\n",
      "5. Language: The official languages of Cyprus are Greek and Turkish, with English widely spoken as a second language.\n",
      "\n",
      "6. Economy: Cyprus has a mixed economy driven by services, tourism, and shipping. The country is also known for its significant offshore financial sector.\n",
      "\n",
      "7. Tourism: Cyprus is a popular tourist destination known for its beautiful beaches, historic sites, and vibrant nightlife. The island attracts millions of visitors each year.\n",
      "\n",
      "I hope these points give you a good starting point for your research on Cyprus! Let me know if you have any more specific questions.\n"
     ]
    }
   ],
   "execution_count": 37
  },
  {
   "metadata": {},
   "cell_type": "markdown",
   "source": "Let's take our existing list of messages, append the above LLM response, and append a follow-up question.",
   "id": "6f58c6fc-532f-418d-b70a-cfcb3307daf5"
  },
  {
   "metadata": {
    "ExecuteTime": {
     "end_time": "2025-03-22T10:18:47.868093Z",
     "start_time": "2025-03-22T10:18:47.214336Z"
    }
   },
   "cell_type": "code",
   "source": [
    "# Invoke\n",
    "output = graph_with_remove_message.invoke({\n",
    "    'messages': messages + [output['messages'][-1]] + [HumanMessage(f\"What is my name?\", id=\"4\")]})\n",
    "for m in output['messages']:\n",
    "    m.pretty_print()"
   ],
   "id": "9eb38fafe54511a4",
   "outputs": [
    {
     "name": "stdout",
     "output_type": "stream",
     "text": [
      "==================================\u001B[1m Ai Message \u001B[0m==================================\n",
      "\n",
      "That's great! Cyprus is a fascinating country with a rich history and vibrant culture. Here are some key points to consider for your research:\n",
      "\n",
      "1. Location: Cyprus is an island country located in the Eastern Mediterranean Sea, south of Turkey and west of Syria and Lebanon.\n",
      "\n",
      "2. History: Cyprus has a long and complex history that dates back to ancient times. The island has been ruled by various civilizations, including the Greeks, Romans, Byzantines, and Ottomans. In 1960, Cyprus gained independence from British colonial rule.\n",
      "\n",
      "3. Division: Cyprus is a divided country, with the northern part of the island being controlled by the self-declared Turkish Republic of Northern Cyprus, recognized only by Turkey. The southern part is the internationally recognized Republic of Cyprus.\n",
      "\n",
      "4. Culture: Cyprus has a diverse cultural heritage influenced by its history and geography. The island's cuisine, music, and dance reflect this rich mix of influences.\n",
      "\n",
      "5. Language: The official languages of Cyprus are Greek and Turkish, with English widely spoken as a second language.\n",
      "\n",
      "6. Economy: Cyprus has a mixed economy driven by services, tourism, and shipping. The country is also known for its significant offshore financial sector.\n",
      "\n",
      "7. Tourism: Cyprus is a popular tourist destination known for its beautiful beaches, historic sites, and vibrant nightlife. The island attracts millions of visitors each year.\n",
      "\n",
      "I hope these points give you a good starting point for your research on Cyprus! Let me know if you have any more specific questions.\n",
      "================================\u001B[1m Human Message \u001B[0m=================================\n",
      "\n",
      "What is my name?\n",
      "==================================\u001B[1m Ai Message \u001B[0m==================================\n",
      "\n",
      "I'm sorry, but I don't have access to your name. If you'd like to share it with me, feel free to do so! Otherwise, feel free to ask me any other questions you have.\n"
     ]
    }
   ],
   "execution_count": 38
  },
  {
   "metadata": {
    "ExecuteTime": {
     "end_time": "2025-03-22T10:18:47.886252Z",
     "start_time": "2025-03-22T10:18:47.884201Z"
    }
   },
   "cell_type": "code",
   "source": "# Q: What is the advantage of RemoveMessage from filtering?",
   "id": "bbf65156dd9c73c7",
   "outputs": [],
   "execution_count": 39
  },
  {
   "cell_type": "markdown",
   "id": "fc40d930-3c1f-47fe-8d2a-ce174873353c",
   "metadata": {},
   "source": [
    "## Option №3: Trimming messages\n",
    "\n",
    "Another approach is to [trim messages](https://python.langchain.com/v0.2/docs/how_to/trim_messages/#getting-the-last-max_tokens-tokens), based upon a set number of tokens. \n",
    "\n",
    "This restricts the message history to a specified number of tokens.\n",
    "\n",
    "While filtering only returns a post-hoc subset of the messages between agents, trimming restricts the number of tokens that a chat model can use to respond.\n",
    "\n",
    "See the `trim_messages` below."
   ]
  },
  {
   "cell_type": "code",
   "id": "2ff99b81-cf03-4cc2-b44f-44829a73e1fd",
   "metadata": {
    "ExecuteTime": {
     "end_time": "2025-03-22T10:18:47.945154Z",
     "start_time": "2025-03-22T10:18:47.900261Z"
    }
   },
   "source": [
    "from langchain_core.messages import trim_messages\n",
    "\n",
    "# Node\n",
    "def call_llm_with_trim_messages(state: MessagesState):\n",
    "    messages = trim_messages(\n",
    "            state[\"messages\"],\n",
    "            max_tokens=100,\n",
    "            strategy=\"last\",\n",
    "            token_counter=ChatOpenAI(model=\"gpt-3.5-turbo\"),\n",
    "            allow_partial=True,\n",
    "        )\n",
    "    return {\"messages\": [llm.invoke(messages)]}\n",
    "\n",
    "# Build graph\n",
    "builder = StateGraph(MessagesState)\n",
    "builder.add_node(\"call_llm_with_trim_messages\", call_llm_with_trim_messages)\n",
    "builder.add_edge(START, \"call_llm_with_trim_messages\")\n",
    "builder.add_edge(\"call_llm_with_trim_messages\", END)\n",
    "graph_with_trim_messages = builder.compile()\n",
    "\n",
    "# View\n",
    "display(Image(graph_with_trim_messages.get_graph().draw_mermaid_png()))"
   ],
   "outputs": [
    {
     "data": {
      "image/png": "[encoded data removed]",
      "text/plain": [
       "<IPython.core.display.Image object>"
      ]
     },
     "metadata": {},
     "output_type": "display_data"
    }
   ],
   "execution_count": 40
  },
  {
   "metadata": {
    "ExecuteTime": {
     "end_time": "2025-03-22T10:18:50.359818Z",
     "start_time": "2025-03-22T10:18:47.949286Z"
    }
   },
   "cell_type": "code",
   "source": [
    "# Invoke, using message filtering\n",
    "output = graph_with_trim_messages.invoke({'messages': messages})\n",
    "\n",
    "enc = tiktoken.encoding_for_model(\"gpt-3.5-turbo\")\n",
    "\n",
    "for m in output['messages']:\n",
    "    m.pretty_print()\n",
    "\n",
    "for m in output['messages']:\n",
    "    tokens = enc.encode(m.content)\n",
    "    print(f\"Message {m.id} has {len(tokens)} tokens\")"
   ],
   "id": "cb1d45c692c7f016",
   "outputs": [
    {
     "name": "stdout",
     "output_type": "stream",
     "text": [
      "================================\u001B[1m Human Message \u001B[0m=================================\n",
      "\n",
      "Hi! I'm Lance!\n",
      "==================================\u001B[1m Ai Message \u001B[0m==================================\n",
      "\n",
      "Hi, Lance! How can I help you?\n",
      "================================\u001B[1m Human Message \u001B[0m=================================\n",
      "\n",
      "I'm doing research about Cyprus, what I should know?\n",
      "==================================\u001B[1m Ai Message \u001B[0m==================================\n",
      "\n",
      "Cyprus is an island country located in the Eastern Mediterranean Sea. It is known for its rich history, stunning beaches, and vibrant culture. Here are some key points about Cyprus:\n",
      "\n",
      "1. Geography: Cyprus is the third-largest island in the Mediterranean Sea, with a total area of around 9,250 square kilometers. It is divided into the Republic of Cyprus in the south and the self-declared Turkish Republic of Northern Cyprus in the north.\n",
      "\n",
      "2. History: Cyprus has a long and complex history, with influences from various civilizations including the Greeks, Romans, Byzantines, Ottomans, and British. It gained independence from British colonial rule in 1960.\n",
      "\n",
      "3. Culture: The culture of Cyprus is a mix of Greek, Turkish, and Middle Eastern influences. The official languages are Greek and Turkish, and the majority religion is Greek Orthodox Christianity.\n",
      "\n",
      "4. Economy: Cyprus has a mixed economy, with key industries including tourism, finance, and shipping. The country is also known for its production of citrus fruits, olives, and wine.\n",
      "\n",
      "5. Tourism: Cyprus is a popular tourist destination, known for its beautiful beaches, ancient ruins, and vibrant nightlife. Popular attractions include the historic city of Paphos, the Troodos Mountains, and the party resort of Ayia Napa.\n",
      "\n",
      "Overall, Cyprus is a fascinating country with a rich history and diverse culture. I hope this information helps with your research! Let me know if you have any other questions.\n",
      "Message 1 has 6 tokens\n",
      "Message 2 has 10 tokens\n",
      "Message 3 has 12 tokens\n",
      "Message run-c5cb3968-754f-44c3-86b9-f5a44b6d6ece-0 has 296 tokens\n"
     ]
    }
   ],
   "execution_count": 41
  },
  {
   "cell_type": "code",
   "id": "6d9d8971-c75c-43ca-a209-eb1d07b2ead0",
   "metadata": {
    "ExecuteTime": {
     "end_time": "2025-03-22T10:18:50.435542Z",
     "start_time": "2025-03-22T10:18:50.422226Z"
    }
   },
   "source": [
    "# Example of trimming messages\n",
    "for m in trim_messages(\n",
    "            output['messages'],\n",
    "            max_tokens=100,\n",
    "            strategy=\"first\",\n",
    "            token_counter=ChatOpenAI(model=\"gpt-3.5-turbo\"),\n",
    "            allow_partial=True # Q: What is False and last message > max_tokens?\n",
    "        ):\n",
    "    m.pretty_print()"
   ],
   "outputs": [
    {
     "name": "stdout",
     "output_type": "stream",
     "text": [
      "================================\u001B[1m Human Message \u001B[0m=================================\n",
      "\n",
      "Hi! I'm Lance!\n",
      "==================================\u001B[1m Ai Message \u001B[0m==================================\n",
      "\n",
      "Hi, Lance! How can I help you?\n",
      "================================\u001B[1m Human Message \u001B[0m=================================\n",
      "\n",
      "I'm doing research about Cyprus, what I should know?\n"
     ]
    }
   ],
   "execution_count": 42
  },
  {
   "metadata": {
    "ExecuteTime": {
     "end_time": "2025-03-22T10:18:51.176977Z",
     "start_time": "2025-03-22T10:18:50.515726Z"
    }
   },
   "cell_type": "code",
   "source": [
    "output = graph_with_filter_messages.invoke({\n",
    "    'messages': output['messages'] + [HumanMessage(f\"What we were talking about?\")]\n",
    "})\n",
    "for m in output['messages']:\n",
    "    m.pretty_print()"
   ],
   "id": "991d9d92933491",
   "outputs": [
    {
     "name": "stdout",
     "output_type": "stream",
     "text": [
      "================================\u001B[1m Human Message \u001B[0m=================================\n",
      "\n",
      "Hi! I'm Lance!\n",
      "==================================\u001B[1m Ai Message \u001B[0m==================================\n",
      "\n",
      "Hi, Lance! How can I help you?\n",
      "================================\u001B[1m Human Message \u001B[0m=================================\n",
      "\n",
      "I'm doing research about Cyprus, what I should know?\n",
      "==================================\u001B[1m Ai Message \u001B[0m==================================\n",
      "\n",
      "Cyprus is an island country located in the Eastern Mediterranean Sea. It is known for its rich history, stunning beaches, and vibrant culture. Here are some key points about Cyprus:\n",
      "\n",
      "1. Geography: Cyprus is the third-largest island in the Mediterranean Sea, with a total area of around 9,250 square kilometers. It is divided into the Republic of Cyprus in the south and the self-declared Turkish Republic of Northern Cyprus in the north.\n",
      "\n",
      "2. History: Cyprus has a long and complex history, with influences from various civilizations including the Greeks, Romans, Byzantines, Ottomans, and British. It gained independence from British colonial rule in 1960.\n",
      "\n",
      "3. Culture: The culture of Cyprus is a mix of Greek, Turkish, and Middle Eastern influences. The official languages are Greek and Turkish, and the majority religion is Greek Orthodox Christianity.\n",
      "\n",
      "4. Economy: Cyprus has a mixed economy, with key industries including tourism, finance, and shipping. The country is also known for its production of citrus fruits, olives, and wine.\n",
      "\n",
      "5. Tourism: Cyprus is a popular tourist destination, known for its beautiful beaches, ancient ruins, and vibrant nightlife. Popular attractions include the historic city of Paphos, the Troodos Mountains, and the party resort of Ayia Napa.\n",
      "\n",
      "Overall, Cyprus is a fascinating country with a rich history and diverse culture. I hope this information helps with your research! Let me know if you have any other questions.\n",
      "================================\u001B[1m Human Message \u001B[0m=================================\n",
      "\n",
      "What we were talking about?\n",
      "==================================\u001B[1m Ai Message \u001B[0m==================================\n",
      "\n",
      "We were discussing key points about Cyprus, including its geography, history, culture, economy, and tourism. If you have any specific questions or if you would like more information on a particular topic, feel free to let me know!\n"
     ]
    }
   ],
   "execution_count": 43
  },
  {
   "metadata": {},
   "cell_type": "markdown",
   "source": [
    "## Task\n",
    "\n",
    "Implement any of this approach of context management to the chat agent"
   ],
   "id": "d81a936e5a0abb8a"
  },
  {
   "metadata": {
    "ExecuteTime": {
     "end_time": "2025-03-22T10:29:57.523113Z",
     "start_time": "2025-03-22T10:29:57.472997Z"
    }
   },
   "cell_type": "code",
   "source": [
    "from langchain_core.messages import trim_messages\n",
    "\n",
    "# Node\n",
    "def call_llm(state: MessagesState):\n",
    "    # TODO: implement filtering\n",
    "    return {\"messages\": [llm.invoke(state[\"messages\"])]}\n",
    "\n",
    "def get_human_message(state: MessagesState):\n",
    "    input_comment = \"\"\n",
    "    if len(state[\"messages\"]) != 0:\n",
    "        input_comment += f\"LLM: {state['messages'][-1].content}\"\n",
    "    human_message = input(f\"{input_comment}\\nEnter your message: \")\n",
    "    return {\"messages\": [HumanMessage(human_message)]}\n",
    "\n",
    "def optimize_context(state: MessagesState):\n",
    "    # TODO: or implement removing/trimming to short context\n",
    "    return state\n",
    "\n",
    "# Build graph\n",
    "builder = StateGraph(MessagesState)\n",
    "\n",
    "builder.add_node(\"call_llm\", call_llm)\n",
    "builder.add_node(\"get_human_message\", get_human_message)\n",
    "builder.add_node(\"optimize_context\", optimize_context)\n",
    "\n",
    "builder.add_edge(START, \"get_human_message\")\n",
    "builder.add_edge(\"get_human_message\", \"optimize_context\")\n",
    "builder.add_edge(\"optimize_context\", \"call_llm\")\n",
    "builder.add_edge(\"call_llm\", \"get_human_message\")\n",
    "\n",
    "graph = builder.compile()\n",
    "\n",
    "# View\n",
    "display(Image(graph.get_graph().draw_mermaid_png()))"
   ],
   "id": "6c95a3bc59b6a89",
   "outputs": [
    {
     "data": {
      "image/png": "[encoded data removed]",
      "text/plain": [
       "<IPython.core.display.Image object>"
      ]
     },
     "metadata": {},
     "output_type": "display_data"
    }
   ],
   "execution_count": 48
  },
  {
   "metadata": {
    "ExecuteTime": {
     "end_time": "2025-03-22T10:30:36.457984Z",
     "start_time": "2025-03-22T10:30:06.061172Z"
    }
   },
   "cell_type": "code",
   "source": "graph.invoke({})",
   "id": "36cf79a49aae5d8d",
   "outputs": [
    {
     "ename": "KeyboardInterrupt",
     "evalue": "Interrupted by user",
     "output_type": "error",
     "traceback": [
      "\u001B[0;31m---------------------------------------------------------------------------\u001B[0m",
      "\u001B[0;31mKeyboardInterrupt\u001B[0m                         Traceback (most recent call last)",
      "Cell \u001B[0;32mIn[49], line 1\u001B[0m\n\u001B[0;32m----> 1\u001B[0m \u001B[43mgraph\u001B[49m\u001B[38;5;241;43m.\u001B[39;49m\u001B[43minvoke\u001B[49m\u001B[43m(\u001B[49m\u001B[43m{\u001B[49m\u001B[43m}\u001B[49m\u001B[43m)\u001B[49m\n",
      "File \u001B[0;32m~/PycharmProjects/Agents101/env/lib/python3.10/site-packages/langgraph/pregel/__init__.py:2669\u001B[0m, in \u001B[0;36mPregel.invoke\u001B[0;34m(self, input, config, stream_mode, output_keys, interrupt_before, interrupt_after, debug, **kwargs)\u001B[0m\n\u001B[1;32m   2667\u001B[0m \u001B[38;5;28;01melse\u001B[39;00m:\n\u001B[1;32m   2668\u001B[0m     chunks \u001B[38;5;241m=\u001B[39m []\n\u001B[0;32m-> 2669\u001B[0m \u001B[38;5;28;01mfor\u001B[39;00m chunk \u001B[38;5;129;01min\u001B[39;00m \u001B[38;5;28mself\u001B[39m\u001B[38;5;241m.\u001B[39mstream(\n\u001B[1;32m   2670\u001B[0m     \u001B[38;5;28minput\u001B[39m,\n\u001B[1;32m   2671\u001B[0m     config,\n\u001B[1;32m   2672\u001B[0m     stream_mode\u001B[38;5;241m=\u001B[39mstream_mode,\n\u001B[1;32m   2673\u001B[0m     output_keys\u001B[38;5;241m=\u001B[39moutput_keys,\n\u001B[1;32m   2674\u001B[0m     interrupt_before\u001B[38;5;241m=\u001B[39minterrupt_before,\n\u001B[1;32m   2675\u001B[0m     interrupt_after\u001B[38;5;241m=\u001B[39minterrupt_after,\n\u001B[1;32m   2676\u001B[0m     debug\u001B[38;5;241m=\u001B[39mdebug,\n\u001B[1;32m   2677\u001B[0m     \u001B[38;5;241m*\u001B[39m\u001B[38;5;241m*\u001B[39mkwargs,\n\u001B[1;32m   2678\u001B[0m ):\n\u001B[1;32m   2679\u001B[0m     \u001B[38;5;28;01mif\u001B[39;00m stream_mode \u001B[38;5;241m==\u001B[39m \u001B[38;5;124m\"\u001B[39m\u001B[38;5;124mvalues\u001B[39m\u001B[38;5;124m\"\u001B[39m:\n\u001B[1;32m   2680\u001B[0m         latest \u001B[38;5;241m=\u001B[39m chunk\n",
      "File \u001B[0;32m~/PycharmProjects/Agents101/env/lib/python3.10/site-packages/langgraph/pregel/__init__.py:2323\u001B[0m, in \u001B[0;36mPregel.stream\u001B[0;34m(self, input, config, stream_mode, output_keys, interrupt_before, interrupt_after, debug, subgraphs)\u001B[0m\n\u001B[1;32m   2317\u001B[0m     \u001B[38;5;66;03m# Similarly to Bulk Synchronous Parallel / Pregel model\u001B[39;00m\n\u001B[1;32m   2318\u001B[0m     \u001B[38;5;66;03m# computation proceeds in steps, while there are channel updates.\u001B[39;00m\n\u001B[1;32m   2319\u001B[0m     \u001B[38;5;66;03m# Channel updates from step N are only visible in step N+1\u001B[39;00m\n\u001B[1;32m   2320\u001B[0m     \u001B[38;5;66;03m# channels are guaranteed to be immutable for the duration of the step,\u001B[39;00m\n\u001B[1;32m   2321\u001B[0m     \u001B[38;5;66;03m# with channel updates applied only at the transition between steps.\u001B[39;00m\n\u001B[1;32m   2322\u001B[0m     \u001B[38;5;28;01mwhile\u001B[39;00m loop\u001B[38;5;241m.\u001B[39mtick(input_keys\u001B[38;5;241m=\u001B[39m\u001B[38;5;28mself\u001B[39m\u001B[38;5;241m.\u001B[39minput_channels):\n\u001B[0;32m-> 2323\u001B[0m         \u001B[38;5;28;01mfor\u001B[39;00m _ \u001B[38;5;129;01min\u001B[39;00m runner\u001B[38;5;241m.\u001B[39mtick(\n\u001B[1;32m   2324\u001B[0m             loop\u001B[38;5;241m.\u001B[39mtasks\u001B[38;5;241m.\u001B[39mvalues(),\n\u001B[1;32m   2325\u001B[0m             timeout\u001B[38;5;241m=\u001B[39m\u001B[38;5;28mself\u001B[39m\u001B[38;5;241m.\u001B[39mstep_timeout,\n\u001B[1;32m   2326\u001B[0m             retry_policy\u001B[38;5;241m=\u001B[39m\u001B[38;5;28mself\u001B[39m\u001B[38;5;241m.\u001B[39mretry_policy,\n\u001B[1;32m   2327\u001B[0m             get_waiter\u001B[38;5;241m=\u001B[39mget_waiter,\n\u001B[1;32m   2328\u001B[0m         ):\n\u001B[1;32m   2329\u001B[0m             \u001B[38;5;66;03m# emit output\u001B[39;00m\n\u001B[1;32m   2330\u001B[0m             \u001B[38;5;28;01myield from\u001B[39;00m output()\n\u001B[1;32m   2331\u001B[0m \u001B[38;5;66;03m# emit output\u001B[39;00m\n",
      "File \u001B[0;32m~/PycharmProjects/Agents101/env/lib/python3.10/site-packages/langgraph/pregel/runner.py:146\u001B[0m, in \u001B[0;36mPregelRunner.tick\u001B[0;34m(self, tasks, reraise, timeout, retry_policy, get_waiter)\u001B[0m\n\u001B[1;32m    144\u001B[0m t \u001B[38;5;241m=\u001B[39m tasks[\u001B[38;5;241m0\u001B[39m]\n\u001B[1;32m    145\u001B[0m \u001B[38;5;28;01mtry\u001B[39;00m:\n\u001B[0;32m--> 146\u001B[0m     \u001B[43mrun_with_retry\u001B[49m\u001B[43m(\u001B[49m\n\u001B[1;32m    147\u001B[0m \u001B[43m        \u001B[49m\u001B[43mt\u001B[49m\u001B[43m,\u001B[49m\n\u001B[1;32m    148\u001B[0m \u001B[43m        \u001B[49m\u001B[43mretry_policy\u001B[49m\u001B[43m,\u001B[49m\n\u001B[1;32m    149\u001B[0m \u001B[43m        \u001B[49m\u001B[43mconfigurable\u001B[49m\u001B[38;5;241;43m=\u001B[39;49m\u001B[43m{\u001B[49m\n\u001B[1;32m    150\u001B[0m \u001B[43m            \u001B[49m\u001B[43mCONFIG_KEY_CALL\u001B[49m\u001B[43m:\u001B[49m\u001B[43m \u001B[49m\u001B[43mpartial\u001B[49m\u001B[43m(\u001B[49m\n\u001B[1;32m    151\u001B[0m \u001B[43m                \u001B[49m\u001B[43m_call\u001B[49m\u001B[43m,\u001B[49m\n\u001B[1;32m    152\u001B[0m \u001B[43m                \u001B[49m\u001B[43mweakref\u001B[49m\u001B[38;5;241;43m.\u001B[39;49m\u001B[43mref\u001B[49m\u001B[43m(\u001B[49m\u001B[43mt\u001B[49m\u001B[43m)\u001B[49m\u001B[43m,\u001B[49m\n\u001B[1;32m    153\u001B[0m \u001B[43m                \u001B[49m\u001B[43mretry\u001B[49m\u001B[38;5;241;43m=\u001B[39;49m\u001B[43mretry_policy\u001B[49m\u001B[43m,\u001B[49m\n\u001B[1;32m    154\u001B[0m \u001B[43m                \u001B[49m\u001B[43mfutures\u001B[49m\u001B[38;5;241;43m=\u001B[39;49m\u001B[43mweakref\u001B[49m\u001B[38;5;241;43m.\u001B[39;49m\u001B[43mref\u001B[49m\u001B[43m(\u001B[49m\u001B[43mfutures\u001B[49m\u001B[43m)\u001B[49m\u001B[43m,\u001B[49m\n\u001B[1;32m    155\u001B[0m \u001B[43m                \u001B[49m\u001B[43mschedule_task\u001B[49m\u001B[38;5;241;43m=\u001B[39;49m\u001B[38;5;28;43mself\u001B[39;49m\u001B[38;5;241;43m.\u001B[39;49m\u001B[43mschedule_task\u001B[49m\u001B[43m,\u001B[49m\n\u001B[1;32m    156\u001B[0m \u001B[43m                \u001B[49m\u001B[43msubmit\u001B[49m\u001B[38;5;241;43m=\u001B[39;49m\u001B[38;5;28;43mself\u001B[39;49m\u001B[38;5;241;43m.\u001B[39;49m\u001B[43msubmit\u001B[49m\u001B[43m,\u001B[49m\n\u001B[1;32m    157\u001B[0m \u001B[43m                \u001B[49m\u001B[43mreraise\u001B[49m\u001B[38;5;241;43m=\u001B[39;49m\u001B[43mreraise\u001B[49m\u001B[43m,\u001B[49m\n\u001B[1;32m    158\u001B[0m \u001B[43m            \u001B[49m\u001B[43m)\u001B[49m\u001B[43m,\u001B[49m\n\u001B[1;32m    159\u001B[0m \u001B[43m        \u001B[49m\u001B[43m}\u001B[49m\u001B[43m,\u001B[49m\n\u001B[1;32m    160\u001B[0m \u001B[43m    \u001B[49m\u001B[43m)\u001B[49m\n\u001B[1;32m    161\u001B[0m     \u001B[38;5;28mself\u001B[39m\u001B[38;5;241m.\u001B[39mcommit(t, \u001B[38;5;28;01mNone\u001B[39;00m)\n\u001B[1;32m    162\u001B[0m \u001B[38;5;28;01mexcept\u001B[39;00m \u001B[38;5;167;01mException\u001B[39;00m \u001B[38;5;28;01mas\u001B[39;00m exc:\n",
      "File \u001B[0;32m~/PycharmProjects/Agents101/env/lib/python3.10/site-packages/langgraph/pregel/retry.py:40\u001B[0m, in \u001B[0;36mrun_with_retry\u001B[0;34m(task, retry_policy, configurable)\u001B[0m\n\u001B[1;32m     38\u001B[0m     task\u001B[38;5;241m.\u001B[39mwrites\u001B[38;5;241m.\u001B[39mclear()\n\u001B[1;32m     39\u001B[0m     \u001B[38;5;66;03m# run the task\u001B[39;00m\n\u001B[0;32m---> 40\u001B[0m     \u001B[38;5;28;01mreturn\u001B[39;00m \u001B[43mtask\u001B[49m\u001B[38;5;241;43m.\u001B[39;49m\u001B[43mproc\u001B[49m\u001B[38;5;241;43m.\u001B[39;49m\u001B[43minvoke\u001B[49m\u001B[43m(\u001B[49m\u001B[43mtask\u001B[49m\u001B[38;5;241;43m.\u001B[39;49m\u001B[43minput\u001B[49m\u001B[43m,\u001B[49m\u001B[43m \u001B[49m\u001B[43mconfig\u001B[49m\u001B[43m)\u001B[49m\n\u001B[1;32m     41\u001B[0m \u001B[38;5;28;01mexcept\u001B[39;00m ParentCommand \u001B[38;5;28;01mas\u001B[39;00m exc:\n\u001B[1;32m     42\u001B[0m     ns: \u001B[38;5;28mstr\u001B[39m \u001B[38;5;241m=\u001B[39m config[CONF][CONFIG_KEY_CHECKPOINT_NS]\n",
      "File \u001B[0;32m~/PycharmProjects/Agents101/env/lib/python3.10/site-packages/langgraph/utils/runnable.py:600\u001B[0m, in \u001B[0;36mRunnableSeq.invoke\u001B[0;34m(self, input, config, **kwargs)\u001B[0m\n\u001B[1;32m    596\u001B[0m config \u001B[38;5;241m=\u001B[39m patch_config(\n\u001B[1;32m    597\u001B[0m     config, callbacks\u001B[38;5;241m=\u001B[39mrun_manager\u001B[38;5;241m.\u001B[39mget_child(\u001B[38;5;124mf\u001B[39m\u001B[38;5;124m\"\u001B[39m\u001B[38;5;124mseq:step:\u001B[39m\u001B[38;5;132;01m{\u001B[39;00mi\u001B[38;5;250m \u001B[39m\u001B[38;5;241m+\u001B[39m\u001B[38;5;250m \u001B[39m\u001B[38;5;241m1\u001B[39m\u001B[38;5;132;01m}\u001B[39;00m\u001B[38;5;124m\"\u001B[39m)\n\u001B[1;32m    598\u001B[0m )\n\u001B[1;32m    599\u001B[0m \u001B[38;5;28;01mif\u001B[39;00m i \u001B[38;5;241m==\u001B[39m \u001B[38;5;241m0\u001B[39m:\n\u001B[0;32m--> 600\u001B[0m     \u001B[38;5;28minput\u001B[39m \u001B[38;5;241m=\u001B[39m \u001B[43mstep\u001B[49m\u001B[38;5;241;43m.\u001B[39;49m\u001B[43minvoke\u001B[49m\u001B[43m(\u001B[49m\u001B[38;5;28;43minput\u001B[39;49m\u001B[43m,\u001B[49m\u001B[43m \u001B[49m\u001B[43mconfig\u001B[49m\u001B[43m,\u001B[49m\u001B[43m \u001B[49m\u001B[38;5;241;43m*\u001B[39;49m\u001B[38;5;241;43m*\u001B[39;49m\u001B[43mkwargs\u001B[49m\u001B[43m)\u001B[49m\n\u001B[1;32m    601\u001B[0m \u001B[38;5;28;01melse\u001B[39;00m:\n\u001B[1;32m    602\u001B[0m     \u001B[38;5;28minput\u001B[39m \u001B[38;5;241m=\u001B[39m step\u001B[38;5;241m.\u001B[39minvoke(\u001B[38;5;28minput\u001B[39m, config)\n",
      "File \u001B[0;32m~/PycharmProjects/Agents101/env/lib/python3.10/site-packages/langgraph/utils/runnable.py:365\u001B[0m, in \u001B[0;36mRunnableCallable.invoke\u001B[0;34m(self, input, config, **kwargs)\u001B[0m\n\u001B[1;32m    363\u001B[0m \u001B[38;5;28;01melse\u001B[39;00m:\n\u001B[1;32m    364\u001B[0m     \u001B[38;5;28;01mwith\u001B[39;00m set_config_context(config) \u001B[38;5;28;01mas\u001B[39;00m context:\n\u001B[0;32m--> 365\u001B[0m         ret \u001B[38;5;241m=\u001B[39m \u001B[43mcontext\u001B[49m\u001B[38;5;241;43m.\u001B[39;49m\u001B[43mrun\u001B[49m\u001B[43m(\u001B[49m\u001B[38;5;28;43mself\u001B[39;49m\u001B[38;5;241;43m.\u001B[39;49m\u001B[43mfunc\u001B[49m\u001B[43m,\u001B[49m\u001B[43m \u001B[49m\u001B[38;5;241;43m*\u001B[39;49m\u001B[43margs\u001B[49m\u001B[43m,\u001B[49m\u001B[43m \u001B[49m\u001B[38;5;241;43m*\u001B[39;49m\u001B[38;5;241;43m*\u001B[39;49m\u001B[43mkwargs\u001B[49m\u001B[43m)\u001B[49m\n\u001B[1;32m    366\u001B[0m \u001B[38;5;28;01mif\u001B[39;00m \u001B[38;5;28misinstance\u001B[39m(ret, Runnable) \u001B[38;5;129;01mand\u001B[39;00m \u001B[38;5;28mself\u001B[39m\u001B[38;5;241m.\u001B[39mrecurse:\n\u001B[1;32m    367\u001B[0m     \u001B[38;5;28;01mreturn\u001B[39;00m ret\u001B[38;5;241m.\u001B[39minvoke(\u001B[38;5;28minput\u001B[39m, config)\n",
      "Cell \u001B[0;32mIn[48], line 12\u001B[0m, in \u001B[0;36mget_human_message\u001B[0;34m(state)\u001B[0m\n\u001B[1;32m     10\u001B[0m \u001B[38;5;28;01mif\u001B[39;00m \u001B[38;5;28mlen\u001B[39m(state[\u001B[38;5;124m\"\u001B[39m\u001B[38;5;124mmessages\u001B[39m\u001B[38;5;124m\"\u001B[39m]) \u001B[38;5;241m!=\u001B[39m \u001B[38;5;241m0\u001B[39m:\n\u001B[1;32m     11\u001B[0m     input_comment \u001B[38;5;241m+\u001B[39m\u001B[38;5;241m=\u001B[39m \u001B[38;5;124mf\u001B[39m\u001B[38;5;124m\"\u001B[39m\u001B[38;5;124mLLM: \u001B[39m\u001B[38;5;132;01m{\u001B[39;00mstate[\u001B[38;5;124m'\u001B[39m\u001B[38;5;124mmessages\u001B[39m\u001B[38;5;124m'\u001B[39m][\u001B[38;5;241m-\u001B[39m\u001B[38;5;241m1\u001B[39m]\u001B[38;5;241m.\u001B[39mcontent\u001B[38;5;132;01m}\u001B[39;00m\u001B[38;5;124m\"\u001B[39m\n\u001B[0;32m---> 12\u001B[0m human_message \u001B[38;5;241m=\u001B[39m \u001B[38;5;28;43minput\u001B[39;49m\u001B[43m(\u001B[49m\u001B[38;5;124;43mf\u001B[39;49m\u001B[38;5;124;43m\"\u001B[39;49m\u001B[38;5;132;43;01m{\u001B[39;49;00m\u001B[43minput_comment\u001B[49m\u001B[38;5;132;43;01m}\u001B[39;49;00m\u001B[38;5;130;43;01m\\n\u001B[39;49;00m\u001B[38;5;124;43mEnter your message: \u001B[39;49m\u001B[38;5;124;43m\"\u001B[39;49m\u001B[43m)\u001B[49m\n\u001B[1;32m     13\u001B[0m \u001B[38;5;28;01mreturn\u001B[39;00m {\u001B[38;5;124m\"\u001B[39m\u001B[38;5;124mmessages\u001B[39m\u001B[38;5;124m\"\u001B[39m: [HumanMessage(human_message)]}\n",
      "File \u001B[0;32m~/PycharmProjects/Agents101/env/lib/python3.10/site-packages/ipykernel/kernelbase.py:1282\u001B[0m, in \u001B[0;36mKernel.raw_input\u001B[0;34m(self, prompt)\u001B[0m\n\u001B[1;32m   1280\u001B[0m     msg \u001B[38;5;241m=\u001B[39m \u001B[38;5;124m\"\u001B[39m\u001B[38;5;124mraw_input was called, but this frontend does not support input requests.\u001B[39m\u001B[38;5;124m\"\u001B[39m\n\u001B[1;32m   1281\u001B[0m     \u001B[38;5;28;01mraise\u001B[39;00m StdinNotImplementedError(msg)\n\u001B[0;32m-> 1282\u001B[0m \u001B[38;5;28;01mreturn\u001B[39;00m \u001B[38;5;28;43mself\u001B[39;49m\u001B[38;5;241;43m.\u001B[39;49m\u001B[43m_input_request\u001B[49m\u001B[43m(\u001B[49m\n\u001B[1;32m   1283\u001B[0m \u001B[43m    \u001B[49m\u001B[38;5;28;43mstr\u001B[39;49m\u001B[43m(\u001B[49m\u001B[43mprompt\u001B[49m\u001B[43m)\u001B[49m\u001B[43m,\u001B[49m\n\u001B[1;32m   1284\u001B[0m \u001B[43m    \u001B[49m\u001B[38;5;28;43mself\u001B[39;49m\u001B[38;5;241;43m.\u001B[39;49m\u001B[43m_parent_ident\u001B[49m\u001B[43m[\u001B[49m\u001B[38;5;124;43m\"\u001B[39;49m\u001B[38;5;124;43mshell\u001B[39;49m\u001B[38;5;124;43m\"\u001B[39;49m\u001B[43m]\u001B[49m\u001B[43m,\u001B[49m\n\u001B[1;32m   1285\u001B[0m \u001B[43m    \u001B[49m\u001B[38;5;28;43mself\u001B[39;49m\u001B[38;5;241;43m.\u001B[39;49m\u001B[43mget_parent\u001B[49m\u001B[43m(\u001B[49m\u001B[38;5;124;43m\"\u001B[39;49m\u001B[38;5;124;43mshell\u001B[39;49m\u001B[38;5;124;43m\"\u001B[39;49m\u001B[43m)\u001B[49m\u001B[43m,\u001B[49m\n\u001B[1;32m   1286\u001B[0m \u001B[43m    \u001B[49m\u001B[43mpassword\u001B[49m\u001B[38;5;241;43m=\u001B[39;49m\u001B[38;5;28;43;01mFalse\u001B[39;49;00m\u001B[43m,\u001B[49m\n\u001B[1;32m   1287\u001B[0m \u001B[43m\u001B[49m\u001B[43m)\u001B[49m\n",
      "File \u001B[0;32m~/PycharmProjects/Agents101/env/lib/python3.10/site-packages/ipykernel/kernelbase.py:1325\u001B[0m, in \u001B[0;36mKernel._input_request\u001B[0;34m(self, prompt, ident, parent, password)\u001B[0m\n\u001B[1;32m   1322\u001B[0m \u001B[38;5;28;01mexcept\u001B[39;00m \u001B[38;5;167;01mKeyboardInterrupt\u001B[39;00m:\n\u001B[1;32m   1323\u001B[0m     \u001B[38;5;66;03m# re-raise KeyboardInterrupt, to truncate traceback\u001B[39;00m\n\u001B[1;32m   1324\u001B[0m     msg \u001B[38;5;241m=\u001B[39m \u001B[38;5;124m\"\u001B[39m\u001B[38;5;124mInterrupted by user\u001B[39m\u001B[38;5;124m\"\u001B[39m\n\u001B[0;32m-> 1325\u001B[0m     \u001B[38;5;28;01mraise\u001B[39;00m \u001B[38;5;167;01mKeyboardInterrupt\u001B[39;00m(msg) \u001B[38;5;28;01mfrom\u001B[39;00m\u001B[38;5;250m \u001B[39m\u001B[38;5;28;01mNone\u001B[39;00m\n\u001B[1;32m   1326\u001B[0m \u001B[38;5;28;01mexcept\u001B[39;00m \u001B[38;5;167;01mException\u001B[39;00m:\n\u001B[1;32m   1327\u001B[0m     \u001B[38;5;28mself\u001B[39m\u001B[38;5;241m.\u001B[39mlog\u001B[38;5;241m.\u001B[39mwarning(\u001B[38;5;124m\"\u001B[39m\u001B[38;5;124mInvalid Message:\u001B[39m\u001B[38;5;124m\"\u001B[39m, exc_info\u001B[38;5;241m=\u001B[39m\u001B[38;5;28;01mTrue\u001B[39;00m)\n",
      "\u001B[0;31mKeyboardInterrupt\u001B[0m: Interrupted by user"
     ]
    }
   ],
   "execution_count": 49
  }
 ],
 "metadata": {
  "kernelspec": {
   "display_name": "Python 3 (ipykernel)",
   "language": "python",
   "name": "python3"
  },
  "language_info": {
   "codemirror_mode": {
    "name": "ipython",
    "version": 3
   },
   "file_extension": ".py",
   "mimetype": "text/x-python",
   "name": "python",
   "nbconvert_exporter": "python",
   "pygments_lexer": "ipython3",
   "version": "3.12.1"
  }
 },
 "nbformat": 4,
 "nbformat_minor": 5
}
