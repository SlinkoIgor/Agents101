{
 "cells": [
  {
   "cell_type": "markdown",
   "id": "83fcadf3",
   "metadata": {},
   "source": [
    "[![Open in Colab](https://colab.research.google.com/assets/colab-badge.svg)](https://colab.research.google.com/github/langchain-ai/langchain-academy/blob/main/module-2/chatbot-summarization.ipynb) [![Open in LangChain Academy](https://cdn.prod.website-files.com/65b8cd72835ceeacd4449a53/66e9eba12c7b7688aa3dbb5e_LCA-badge-green.svg)](https://academy.langchain.com/courses/take/intro-to-langgraph/lessons/58239436-lesson-5-chatbot-w-summarizing-messages-and-memory)"
   ]
  },
  {
   "cell_type": "markdown",
   "id": "b651ead9-5504-45ee-938d-f91ac78dddd1",
   "metadata": {},
   "source": [
    "# Message summarization\n",
    "\n",
    "Now, let's take it one step further! Rather than just trimming or filtering messages, we'll show how to use LLMs to produce a running summary of the conversation. This allows us to retain a compressed representation of the full conversation, rather than just removing it with trimming or filtering.\n",
    "\n",
    "We'll incorporate this summarization into a simple Chatbot. And we'll equip that Chatbot with memory, supporting long-running conversations without incurring high token cost / latency."
   ]
  },
  {
   "cell_type": "code",
   "id": "000a6daa-92ad-4e57-a060-d1c81176eb0d",
   "metadata": {
    "ExecuteTime": {
     "end_time": "2025-03-17T23:07:55.689627Z",
     "start_time": "2025-03-17T23:07:53.090490Z"
    }
   },
   "source": [
    "%%capture --no-stderr\n",
    "%pip install --quiet -U langchain_core langgraph langchain_openai"
   ],
   "outputs": [],
   "execution_count": 1
  },
  {
   "cell_type": "code",
   "id": "09201a62",
   "metadata": {
    "ExecuteTime": {
     "end_time": "2025-03-17T23:08:22.496581Z",
     "start_time": "2025-03-17T23:07:55.696140Z"
    }
   },
   "source": [
    "import os, getpass\n",
    "\n",
    "def _set_env(var: str):\n",
    "    if not os.environ.get(var):\n",
    "        os.environ[var] = getpass.getpass(f\"{var}: \")\n",
    "\n",
    "_set_env(\"OPENAI_API_KEY\")"
   ],
   "outputs": [],
   "execution_count": 2
  },
  {
   "cell_type": "code",
   "id": "537ade30-6a0e-4b6b-8bcd-ce90790b6392",
   "metadata": {
    "ExecuteTime": {
     "end_time": "2025-03-17T23:08:23.415520Z",
     "start_time": "2025-03-17T23:08:22.617621Z"
    }
   },
   "source": [
    "from langchain_openai import ChatOpenAI\n",
    "\n",
    "llm = ChatOpenAI(model=\"gpt-3.5-turbo\", temperature=0)"
   ],
   "outputs": [],
   "execution_count": 3
  },
  {
   "cell_type": "markdown",
   "id": "db3afac3-8b7a-45db-a3c1-7e4125c1bc8b",
   "metadata": {},
   "source": [
    "We'll use `MessagesState`, as before.\n",
    "\n",
    "In addition to the built-in `messages` key, we'll now include a custom key (`summary`)."
   ]
  },
  {
   "cell_type": "code",
   "id": "948e60f0-5c76-4235-b40e-cf523205d40e",
   "metadata": {
    "ExecuteTime": {
     "end_time": "2025-03-17T23:08:23.447129Z",
     "start_time": "2025-03-17T23:08:23.420354Z"
    }
   },
   "source": [
    "from langgraph.graph import MessagesState\n",
    "\n",
    "class State(MessagesState):\n",
    "    summary: str"
   ],
   "outputs": [],
   "execution_count": 4
  },
  {
   "cell_type": "markdown",
   "id": "6855ea31-5cc1-4277-a189-0b72459f67ec",
   "metadata": {},
   "source": [
    "We'll define a node to call our LLM that incorporates a summary, if it exists, into the prompt."
   ]
  },
  {
   "cell_type": "code",
   "id": "c3f7d19b-afe0-4381-9b1a-0a832b162e7b",
   "metadata": {
    "ExecuteTime": {
     "end_time": "2025-03-17T23:08:23.454745Z",
     "start_time": "2025-03-17T23:08:23.451866Z"
    }
   },
   "source": [
    "from langchain_core.messages import SystemMessage, HumanMessage, RemoveMessage\n",
    "\n",
    "# Define the logic to call the model\n",
    "def call_llm_with_summary(state: State):\n",
    "    # Get summary if it exists\n",
    "    summary = state.get(\"summary\", \"\")\n",
    "    # If there is summary, then we add it\n",
    "    if summary:\n",
    "        # Add summary to system message\n",
    "        system_message = f\"Summary of conversation earlier: {summary}\"\n",
    "        # Append summary to any newer messages\n",
    "        messages = [SystemMessage(content=system_message)] + state[\"messages\"]\n",
    "    else:\n",
    "        messages = state[\"messages\"]\n",
    "    response = llm.invoke(messages)\n",
    "\n",
    "    return {\"messages\": response}"
   ],
   "outputs": [],
   "execution_count": 5
  },
  {
   "cell_type": "markdown",
   "id": "6882042c-b42d-4d52-a6a7-6ec8efa72450",
   "metadata": {},
   "source": [
    "We'll define a node to produce a summary.\n",
    "\n",
    "Note, here we'll use `RemoveMessage` to filter our state after we've produced the summary."
   ]
  },
  {
   "cell_type": "code",
   "id": "78c7aa59-3760-4e76-93f1-bc713e3ec39e",
   "metadata": {
    "ExecuteTime": {
     "end_time": "2025-03-17T23:08:23.462906Z",
     "start_time": "2025-03-17T23:08:23.460513Z"
    }
   },
   "source": [
    "def summarize_conversation(state: State):\n",
    "    # First, we get any existing summary\n",
    "    summary = state.get(\"summary\", \"\")\n",
    "    # Create our summarization prompt \n",
    "    if summary:\n",
    "        # A summary already exists\n",
    "        summary_message = (\n",
    "            f\"This is summary of the conversation to date: {summary}\\n\\n\"\n",
    "            \"Extend the summary by taking into account the new messages above:\"\n",
    "        )\n",
    "    else:\n",
    "        summary_message = \"Create a summary of the conversation above:\"\n",
    "\n",
    "    # Add prompt to our history\n",
    "    messages = state[\"messages\"] + [HumanMessage(content=summary_message)]\n",
    "    response = llm.invoke(messages)\n",
    "    \n",
    "    # Delete all but the 2 most recent messages\n",
    "    delete_messages = [RemoveMessage(id=m.id) for m in state[\"messages\"][:-2]]\n",
    "\n",
    "    return {\"summary\": response.content, \"messages\": delete_messages}"
   ],
   "outputs": [],
   "execution_count": 6
  },
  {
   "cell_type": "markdown",
   "id": "f982993e-f4be-4ff7-9a38-886f75398b3d",
   "metadata": {},
   "source": [
    "We'll add a conditional edge to determine whether to produce a summary based on the conversation length."
   ]
  },
  {
   "cell_type": "code",
   "id": "b507665d-7f5d-442a-b498-218c94c5dd8b",
   "metadata": {
    "ExecuteTime": {
     "end_time": "2025-03-17T23:08:23.474134Z",
     "start_time": "2025-03-17T23:08:23.472255Z"
    }
   },
   "source": [
    "from langgraph.graph import END\n",
    "\n",
    "# Determine whether to end or summarize the conversation\n",
    "def should_continue(state: State):\n",
    "    \"\"\"Return the next node to execute.\"\"\"\n",
    "    messages = state[\"messages\"]\n",
    "    \n",
    "    # If there are more than six messages, then we summarize the conversation\n",
    "    if len(messages) > 4:\n",
    "        return \"summarize_conversation\"\n",
    "    \n",
    "    # Otherwise we can just end\n",
    "    return END"
   ],
   "outputs": [],
   "execution_count": 7
  },
  {
   "cell_type": "code",
   "id": "1d57516d-f9f1-4d3c-a84a-7277b5ce6df6",
   "metadata": {
    "ExecuteTime": {
     "end_time": "2025-03-17T23:08:23.488566Z",
     "start_time": "2025-03-17T23:08:23.483706Z"
    }
   },
   "source": [
    "from IPython.display import Image, display\n",
    "from langgraph.checkpoint.memory import MemorySaver\n",
    "from langgraph.graph import StateGraph, START\n",
    "\n",
    "# Define a new graph\n",
    "workflow = StateGraph(State)\n",
    "workflow.add_node(\"call_llm_with_summary\", call_llm_with_summary)\n",
    "workflow.add_node(summarize_conversation)\n",
    "\n",
    "# Set the entrypoint as conversation\n",
    "workflow.add_edge(START, \"call_llm_with_summary\")\n",
    "workflow.add_conditional_edges(\"call_llm_with_summary\", should_continue)\n",
    "workflow.add_edge(\"summarize_conversation\", END)"
   ],
   "outputs": [
    {
     "data": {
      "text/plain": [
       "<langgraph.graph.state.StateGraph at 0x11e1a2c80>"
      ]
     },
     "execution_count": 8,
     "metadata": {},
     "output_type": "execute_result"
    }
   ],
   "execution_count": 8
  },
  {
   "metadata": {
    "ExecuteTime": {
     "end_time": "2025-03-17T23:08:24.396509Z",
     "start_time": "2025-03-17T23:08:23.505951Z"
    }
   },
   "cell_type": "code",
   "source": [
    "graph = workflow.compile()\n",
    "display(Image(graph.get_graph().draw_mermaid_png()))"
   ],
   "id": "e7e2b0300813199",
   "outputs": [
    {
     "data": {
      "image/png": "[encoded data removed]",
      "text/plain": [
       "<IPython.core.display.Image object>"
      ]
     },
     "metadata": {},
     "output_type": "display_data"
    }
   ],
   "execution_count": 9
  },
  {
   "metadata": {
    "ExecuteTime": {
     "end_time": "2025-03-17T23:08:25.231723Z",
     "start_time": "2025-03-17T23:08:24.411313Z"
    }
   },
   "cell_type": "code",
   "source": [
    "state = graph.invoke({\"messages\": [HumanMessage(content=\"Hi! I'm Lance\")]})\n",
    "if 'summary' in state:\n",
    "    print('Summary:', state['summary'])\n",
    "else:\n",
    "    print('No summary')\n",
    "for m in state['messages']:\n",
    "    m.pretty_print()"
   ],
   "id": "879396c2650e83bf",
   "outputs": [
    {
     "name": "stdout",
     "output_type": "stream",
     "text": [
      "No summary\n",
      "================================\u001B[1m Human Message \u001B[0m=================================\n",
      "\n",
      "Hi! I'm Lance\n",
      "==================================\u001B[1m Ai Message \u001B[0m==================================\n",
      "\n",
      "Nice to meet you Lance! How can I assist you today?\n"
     ]
    }
   ],
   "execution_count": 10
  },
  {
   "metadata": {
    "ExecuteTime": {
     "end_time": "2025-03-17T23:08:25.763771Z",
     "start_time": "2025-03-17T23:08:25.237163Z"
    }
   },
   "cell_type": "code",
   "source": [
    "state['messages'] = state[\"messages\"] + [HumanMessage(content=\"I'm from France\")]\n",
    "state = graph.invoke(state)\n",
    "if 'summary' in state:\n",
    "    print('Summary:', state['summary'])\n",
    "else:\n",
    "    print('No summary')\n",
    "for m in state['messages']:\n",
    "    m.pretty_print()"
   ],
   "id": "91ff8fef4e332f15",
   "outputs": [
    {
     "name": "stdout",
     "output_type": "stream",
     "text": [
      "No summary\n",
      "================================\u001B[1m Human Message \u001B[0m=================================\n",
      "\n",
      "Hi! I'm Lance\n",
      "==================================\u001B[1m Ai Message \u001B[0m==================================\n",
      "\n",
      "Nice to meet you Lance! How can I assist you today?\n",
      "================================\u001B[1m Human Message \u001B[0m=================================\n",
      "\n",
      "I'm from France\n",
      "==================================\u001B[1m Ai Message \u001B[0m==================================\n",
      "\n",
      "That's great! How can I help you today?\n"
     ]
    }
   ],
   "execution_count": 11
  },
  {
   "metadata": {
    "ExecuteTime": {
     "end_time": "2025-03-17T23:08:27.670938Z",
     "start_time": "2025-03-17T23:08:25.768968Z"
    }
   },
   "cell_type": "code",
   "source": [
    "state['messages'] = state[\"messages\"] + [HumanMessage(content=\"Make a short poem about me\")]\n",
    "state = graph.invoke(state)\n",
    "if 'summary' in state:\n",
    "    print('Summary:', state['summary'])\n",
    "else:\n",
    "    print('No summary')\n",
    "for m in state['messages']:\n",
    "    m.pretty_print()"
   ],
   "id": "d63ab91ddb724b2d",
   "outputs": [
    {
     "name": "stdout",
     "output_type": "stream",
     "text": [
      "Summary: In the conversation above, Lance introduced himself as being from France. He then requested a short poem about himself, to which a poem was created highlighting his strong and true spirit. Lance then asked for a summary of the conversation.\n",
      "================================\u001B[1m Human Message \u001B[0m=================================\n",
      "\n",
      "Make a short poem about me\n",
      "==================================\u001B[1m Ai Message \u001B[0m==================================\n",
      "\n",
      "Sure! Here's a short poem for you, Lance:\n",
      "\n",
      "In France, Lance does reside,\n",
      "With a spirit that cannot hide.\n",
      "A name so strong and true,\n",
      "Bringing light in all he'll do.\n",
      "\n",
      "I hope you liked it!\n"
     ]
    }
   ],
   "execution_count": 12
  },
  {
   "metadata": {},
   "cell_type": "markdown",
   "source": [
    "## Adding memory\n",
    "\n",
    "Let's do something to avoid passing state every time and allow agent to persistently accumulate info.\n",
    "The solution is to use`MemorySaver`, an in-memory key-value store for Graph state.\n",
    "\n",
    "All we need to do is compile the graph with a checkpointer, and our graph has memory!"
   ],
   "id": "5a838f4c-7067-4f7f-a4c4-6654e11214cd"
  },
  {
   "metadata": {
    "ExecuteTime": {
     "end_time": "2025-03-17T23:08:27.850794Z",
     "start_time": "2025-03-17T23:08:27.676234Z"
    }
   },
   "cell_type": "code",
   "source": [
    " # Compile\n",
    "memory = MemorySaver()\n",
    "graph = workflow.compile(checkpointer=memory)\n",
    "display(Image(graph.get_graph().draw_mermaid_png()))"
   ],
   "id": "804605f527b21f9b",
   "outputs": [
    {
     "data": {
      "image/png": "[encoded data removed]",
      "text/plain": [
       "<IPython.core.display.Image object>"
      ]
     },
     "metadata": {},
     "output_type": "display_data"
    }
   ],
   "execution_count": 13
  },
  {
   "attachments": {},
   "cell_type": "markdown",
   "id": "d0bd5d23-ac3b-4496-a049-9a9f97d2feb9",
   "metadata": {},
   "source": [
    "## Threads\n",
    "\n",
    "The checkpointer saves the state at each step as a checkpoint.\n",
    "\n",
    "These saved checkpoints can be grouped into a `thread` of conversation.\n",
    "\n",
    "Think about Slack as an analog: different channels carry different conversations.\n",
    "\n",
    "Threads are like Slack channels, capturing grouped collections of state (e.g., conversation).\n",
    "\n",
    "Below, we use `configurable` to set a thread ID.\n",
    "\n",
    "![state.jpg](https://cdn.prod.website-files.com/65b8cd72835ceeacd4449a53/66dbadf3b379c2ee621adfd1_chatbot-summarization1.png)"
   ]
  },
  {
   "metadata": {
    "ExecuteTime": {
     "end_time": "2025-03-17T23:08:28.706456Z",
     "start_time": "2025-03-17T23:08:27.858207Z"
    }
   },
   "cell_type": "code",
   "source": [
    "# Create a thread\n",
    "config = {\"configurable\": {\"thread_id\": \"2\"}}\n",
    "\n",
    "# Start conversation\n",
    "input_message = HumanMessage(content=\"Hi! I'm Lance\")\n",
    "state = graph.invoke({\"messages\": [input_message]}, config)\n",
    "\n",
    "if 'summary' in state:\n",
    "    print('Summary:', state['summary'])\n",
    "else:\n",
    "    print('No summary')\n",
    "\n",
    "for m in state['messages']:\n",
    "    m.pretty_print()\n"
   ],
   "id": "2566c93b-13e6-4a53-bc0f-b00fff691d30",
   "outputs": [
    {
     "name": "stdout",
     "output_type": "stream",
     "text": [
      "No summary\n",
      "================================\u001B[1m Human Message \u001B[0m=================================\n",
      "\n",
      "Hi! I'm Lance\n",
      "==================================\u001B[1m Ai Message \u001B[0m==================================\n",
      "\n",
      "Nice to meet you Lance! How can I assist you today?\n"
     ]
    }
   ],
   "execution_count": 14
  },
  {
   "metadata": {},
   "cell_type": "markdown",
   "source": [
    "Now, we don't yet have a summary of the state because we still have < = 4 messages.\n",
    "\n",
    "This was set in `should_continue`.\n",
    "\n",
    "```\n",
    "    # If there are more than six messages, then we summarize the conversation\n",
    "    if len(messages) > 4:\n",
    "        return \"summarize_conversation\"\n",
    "```\n",
    "\n",
    "We can pick up the conversation because we have the thread."
   ],
   "id": "531e5b63-5e8b-486e-baa0-a45521e2fbc2"
  },
  {
   "metadata": {
    "ExecuteTime": {
     "end_time": "2025-03-17T23:08:29.210190Z",
     "start_time": "2025-03-17T23:08:28.712984Z"
    }
   },
   "cell_type": "code",
   "source": [
    "input_message = HumanMessage(content=\"What's my name?\")\n",
    "state = graph.invoke({\"messages\": [input_message]}, config)\n",
    "\n",
    "if 'summary' in state:\n",
    "    print('Summary:', state['summary'])\n",
    "else:\n",
    "    print('No summary')\n",
    "\n",
    "for m in state['messages']:\n",
    "    m.pretty_print()"
   ],
   "id": "4b38e125b031ce96",
   "outputs": [
    {
     "name": "stdout",
     "output_type": "stream",
     "text": [
      "No summary\n",
      "================================\u001B[1m Human Message \u001B[0m=================================\n",
      "\n",
      "Hi! I'm Lance\n",
      "==================================\u001B[1m Ai Message \u001B[0m==================================\n",
      "\n",
      "Nice to meet you Lance! How can I assist you today?\n",
      "================================\u001B[1m Human Message \u001B[0m=================================\n",
      "\n",
      "What's my name?\n",
      "==================================\u001B[1m Ai Message \u001B[0m==================================\n",
      "\n",
      "Your name is Lance.\n"
     ]
    }
   ],
   "execution_count": 15
  },
  {
   "metadata": {
    "ExecuteTime": {
     "end_time": "2025-03-17T23:08:30.564042Z",
     "start_time": "2025-03-17T23:08:29.220651Z"
    }
   },
   "cell_type": "code",
   "source": [
    "input_message = HumanMessage(content=\"I like Cyprus!\")\n",
    "state = graph.invoke({\"messages\": [input_message]}, config)\n",
    "\n",
    "if 'summary' in state:\n",
    "    print('Summary:', state['summary'])\n",
    "else:\n",
    "    print('No summary')\n",
    "\n",
    "for m in state['messages']:\n",
    "    m.pretty_print()"
   ],
   "id": "e6ac08c3a6de1e2",
   "outputs": [
    {
     "name": "stdout",
     "output_type": "stream",
     "text": [
      "Summary: The conversation involved introducing ourselves, with Lance expressing his liking for Cyprus.\n",
      "================================\u001B[1m Human Message \u001B[0m=================================\n",
      "\n",
      "I like Cyprus!\n",
      "==================================\u001B[1m Ai Message \u001B[0m==================================\n",
      "\n",
      "That's great to hear! Cyprus is a beautiful island with a rich history and stunning landscapes. Have you visited Cyprus before or do you have a special connection to the country?\n"
     ]
    }
   ],
   "execution_count": 16
  },
  {
   "metadata": {
    "ExecuteTime": {
     "end_time": "2025-03-17T23:08:31.456052Z",
     "start_time": "2025-03-17T23:08:30.569406Z"
    }
   },
   "cell_type": "code",
   "source": [
    "input_message = HumanMessage(content=\"What is the capital?\")\n",
    "state = graph.invoke({\"messages\": [input_message]}, config)\n",
    "\n",
    "if 'summary' in state:\n",
    "    print('Summary:', state['summary'])\n",
    "else:\n",
    "    print('No summary')\n",
    "\n",
    "for m in state['messages']:\n",
    "    m.pretty_print()\n",
    "\n",
    "# Q: If I restart the kernel, the state will reload?"
   ],
   "id": "2524b6af64104e5c",
   "outputs": [
    {
     "name": "stdout",
     "output_type": "stream",
     "text": [
      "Summary: The conversation involved introducing ourselves, with Lance expressing his liking for Cyprus.\n",
      "================================\u001B[1m Human Message \u001B[0m=================================\n",
      "\n",
      "I like Cyprus!\n",
      "==================================\u001B[1m Ai Message \u001B[0m==================================\n",
      "\n",
      "That's great to hear! Cyprus is a beautiful island with a rich history and stunning landscapes. Have you visited Cyprus before or do you have a special connection to the country?\n",
      "================================\u001B[1m Human Message \u001B[0m=================================\n",
      "\n",
      "What is the capital?\n",
      "==================================\u001B[1m Ai Message \u001B[0m==================================\n",
      "\n",
      "The capital of Cyprus is Nicosia. It is the largest city on the island and serves as the political, cultural, and economic center of Cyprus. Nicosia is known for its historic city walls, museums, and vibrant street life. Have you ever been to Nicosia or are you planning to visit in the future?\n"
     ]
    }
   ],
   "execution_count": 17
  },
  {
   "cell_type": "markdown",
   "id": "068a93e9-f716-4980-8edf-94115017d865",
   "metadata": {},
   "source": [
    "The `config` with thread ID allows us to proceed from the previously logged state!"
   ]
  },
  {
   "metadata": {
    "ExecuteTime": {
     "end_time": "2025-03-17T23:08:31.463205Z",
     "start_time": "2025-03-17T23:08:31.460980Z"
    }
   },
   "cell_type": "code",
   "source": "config",
   "id": "a7b26e00503a9ae7",
   "outputs": [
    {
     "data": {
      "text/plain": [
       "{'configurable': {'thread_id': '2'}}"
      ]
     },
     "execution_count": 18,
     "metadata": {},
     "output_type": "execute_result"
    }
   ],
   "execution_count": 18
  },
  {
   "cell_type": "code",
   "id": "22f1b35f-e4bb-47f6-87b1-d84d8aed9aa9",
   "metadata": {
    "ExecuteTime": {
     "end_time": "2025-03-17T23:08:31.475402Z",
     "start_time": "2025-03-17T23:08:31.472835Z"
    }
   },
   "source": "graph.get_state(config).values.get(\"summary\")",
   "outputs": [
    {
     "data": {
      "text/plain": [
       "'The conversation involved introducing ourselves, with Lance expressing his liking for Cyprus.'"
      ]
     },
     "execution_count": 19,
     "metadata": {},
     "output_type": "execute_result"
    }
   ],
   "execution_count": 19
  },
  {
   "metadata": {
    "ExecuteTime": {
     "end_time": "2025-03-17T23:08:31.494308Z",
     "start_time": "2025-03-17T23:08:31.491541Z"
    }
   },
   "cell_type": "code",
   "source": "graph.get_state({'configurable': {'thread_id': '2'}}).values.get(\"summary\", \"No summary\")",
   "id": "61e691a634e555f1",
   "outputs": [
    {
     "data": {
      "text/plain": [
       "'The conversation involved introducing ourselves, with Lance expressing his liking for Cyprus.'"
      ]
     },
     "execution_count": 20,
     "metadata": {},
     "output_type": "execute_result"
    }
   ],
   "execution_count": 20
  },
  {
   "metadata": {},
   "cell_type": "markdown",
   "source": "",
   "id": "3c9471bd202ba69b"
  },
  {
   "metadata": {},
   "cell_type": "code",
   "outputs": [],
   "execution_count": null,
   "source": "",
   "id": "c113cd7f9a73119c"
  }
 ],
 "metadata": {
  "kernelspec": {
   "display_name": "Python 3 (ipykernel)",
   "language": "python",
   "name": "python3"
  },
  "language_info": {
   "codemirror_mode": {
    "name": "ipython",
    "version": 3
   },
   "file_extension": ".py",
   "mimetype": "text/x-python",
   "name": "python",
   "nbconvert_exporter": "python",
   "pygments_lexer": "ipython3",
   "version": "3.12.1"
  }
 },
 "nbformat": 4,
 "nbformat_minor": 5
}
