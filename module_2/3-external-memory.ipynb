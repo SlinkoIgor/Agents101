{
 "cells": [
  {
   "cell_type": "markdown",
   "id": "cf7ccb32",
   "metadata": {},
   "source": [
    "[![Open in Colab](https://colab.research.google.com/assets/colab-badge.svg)](https://colab.research.google.com/github/langchain-ai/langchain-academy/blob/main/module-2/chatbot-external-memory.ipynb) [![Open in LangChain Academy](https://cdn.prod.website-files.com/65b8cd72835ceeacd4449a53/66e9eba12c7b7688aa3dbb5e_LCA-badge-green.svg)](https://academy.langchain.com/courses/take/intro-to-langgraph/lessons/58239440-lesson-6-chatbot-w-summarizing-messages-and-external-memory)"
   ]
  },
  {
   "cell_type": "markdown",
   "id": "af6c7afe-1037-41ab-98e4-494692e47402",
   "metadata": {},
   "source": [
    "# External DB memory\n",
    "\n",
    "But, what if we want our Chatbot to have memory that persists indefinitely?\n",
    "\n",
    "Now, we'll introduce some more advanced checkpointers that support external databases. \n",
    "\n",
    "Here, we'll show how to use [Sqlite as a checkpointer](https://langchain-ai.github.io/langgraph/concepts/low_level/#checkpointer), but other checkpointers, such as [Postgres](https://langchain-ai.github.io/langgraph/how-tos/persistence_postgres/) are available!"
   ]
  },
  {
   "cell_type": "code",
   "id": "85ed78d9-6ca2-45ac-96a9-52e341ec519d",
   "metadata": {
    "ExecuteTime": {
     "end_time": "2025-03-22T12:09:10.597333Z",
     "start_time": "2025-03-22T12:09:08.489822Z"
    }
   },
   "source": [
    "%%capture --no-stderr\n",
    "%pip install --quiet -U langgraph-checkpoint-sqlite langchain_core langgraph langchain_openai"
   ],
   "outputs": [],
   "execution_count": 1
  },
  {
   "cell_type": "code",
   "id": "2e10c4d4",
   "metadata": {
    "ExecuteTime": {
     "end_time": "2025-03-22T12:09:15.745475Z",
     "start_time": "2025-03-22T12:09:10.602461Z"
    }
   },
   "source": [
    "import os, getpass\n",
    "\n",
    "def _set_env(var: str):\n",
    "    if not os.environ.get(var):\n",
    "        os.environ[var] = getpass.getpass(f\"{var}: \")\n",
    "\n",
    "_set_env(\"OPENAI_API_KEY\")"
   ],
   "outputs": [],
   "execution_count": 2
  },
  {
   "cell_type": "markdown",
   "id": "b40d25c0-e9b5-4854-bf07-3cc3ff07122e",
   "metadata": {},
   "source": [
    "## Sqlite\n",
    "\n",
    "A good starting point here is the [SqliteSaver checkpointer](https://langchain-ai.github.io/langgraph/concepts/low_level/#checkpointer).\n",
    "\n",
    "Sqlite is a [small, fast, highly popular](https://x.com/karpathy/status/1819490455664685297) SQL database. \n",
    " \n",
    "If we supply `\":memory:\"` it creates an in-memory Sqlite database."
   ]
  },
  {
   "cell_type": "code",
   "id": "fae15402-17ae-4e89-8ecf-4c89e08b22fe",
   "metadata": {
    "ExecuteTime": {
     "end_time": "2025-03-22T12:09:15.821935Z",
     "start_time": "2025-03-22T12:09:15.820010Z"
    }
   },
   "source": [
    "import sqlite3\n",
    "# In memory\n",
    "conn = sqlite3.connect(\":memory:\", check_same_thread = False)"
   ],
   "outputs": [],
   "execution_count": 3
  },
  {
   "cell_type": "markdown",
   "id": "c2bf53ec-6d4a-42ce-8183-344795eed403",
   "metadata": {},
   "source": [
    "But, if we supply a db path, then it will create a database for us!"
   ]
  },
  {
   "cell_type": "code",
   "id": "58339167-920c-4994-a0a7-0a9c5d4f7cf7",
   "metadata": {
    "ExecuteTime": {
     "end_time": "2025-03-22T12:09:16.639544Z",
     "start_time": "2025-03-22T12:09:15.826253Z"
    }
   },
   "source": [
    "# pull file if it doesn't exist and connect to local db\n",
    "!mkdir -p state_db && [ ! -f state_db/example.db ] && wget -P state_db https://github.com/langchain-ai/langchain-academy/raw/main/module-2/state_db/example.db\n",
    "\n",
    "db_path = \"state_db/example.db\"\n",
    "conn = sqlite3.connect(db_path, check_same_thread=False)"
   ],
   "outputs": [
    {
     "name": "stdout",
     "output_type": "stream",
     "text": [
      "--2025-03-22 14:09:15--  https://github.com/langchain-ai/langchain-academy/raw/main/module-2/state_db/example.db\r\n",
      "Resolving github.com (github.com)... 140.82.121.4\r\n",
      "Connecting to github.com (github.com)|140.82.121.4|:443... connected.\r\n",
      "HTTP request sent, awaiting response... 302 Found\r\n",
      "Location: https://raw.githubusercontent.com/langchain-ai/langchain-academy/main/module-2/state_db/example.db [following]\r\n",
      "--2025-03-22 14:09:16--  https://raw.githubusercontent.com/langchain-ai/langchain-academy/main/module-2/state_db/example.db\r\n",
      "Resolving raw.githubusercontent.com (raw.githubusercontent.com)... 185.199.108.133, 185.199.111.133, 185.199.109.133, ...\r\n",
      "Connecting to raw.githubusercontent.com (raw.githubusercontent.com)|185.199.108.133|:443... connected.\r\n",
      "HTTP request sent, awaiting response... 200 OK\r\n",
      "Length: 110592 (108K) [application/octet-stream]\r\n",
      "Saving to: ‘state_db/example.db’\r\n",
      "\r\n",
      "example.db          100%[===================>] 108.00K  --.-KB/s    in 0.06s   \r\n",
      "\r\n",
      "2025-03-22 14:09:16 (1.78 MB/s) - ‘state_db/example.db’ saved [110592/110592]\r\n",
      "\r\n"
     ]
    }
   ],
   "execution_count": 4
  },
  {
   "cell_type": "code",
   "id": "3c7736b6-a750-48f8-a838-8e7616b12250",
   "metadata": {
    "ExecuteTime": {
     "end_time": "2025-03-22T12:09:16.798754Z",
     "start_time": "2025-03-22T12:09:16.648073Z"
    }
   },
   "source": [
    "# Here is our checkpointer \n",
    "from langgraph.checkpoint.sqlite import SqliteSaver\n",
    "memory = SqliteSaver(conn)"
   ],
   "outputs": [],
   "execution_count": 5
  },
  {
   "metadata": {
    "ExecuteTime": {
     "end_time": "2025-03-22T12:09:17.169466Z",
     "start_time": "2025-03-22T12:09:16.803184Z"
    }
   },
   "cell_type": "code",
   "source": [
    "from langchain_openai import ChatOpenAI\n",
    "\n",
    "llm = ChatOpenAI(model=\"gpt-3.5-turbo\", temperature=0)"
   ],
   "id": "ce893a392977969",
   "outputs": [],
   "execution_count": 6
  },
  {
   "cell_type": "code",
   "id": "dc414e29-2078-41a0-887c-af1a6a3d72c0",
   "metadata": {
    "ExecuteTime": {
     "end_time": "2025-03-22T12:09:17.245348Z",
     "start_time": "2025-03-22T12:09:17.175098Z"
    }
   },
   "source": [
    "from IPython.display import Image, display\n",
    "from langgraph.graph import MessagesState\n",
    "from langgraph.graph import StateGraph, START, END\n",
    "\n",
    "# Node\n",
    "def call_llm(state: MessagesState):\n",
    "    return {\"messages\": llm.invoke(state[\"messages\"])}\n",
    "\n",
    "# Build graph\n",
    "builder = StateGraph(MessagesState)\n",
    "builder.add_node(\"call_llm\", call_llm)\n",
    "builder.add_edge(START, \"call_llm\")\n",
    "builder.add_edge(\"call_llm\", END)\n",
    "graph = builder.compile(checkpointer=memory)\n",
    "\n",
    "# View\n",
    "display(Image(graph.get_graph().draw_mermaid_png()))"
   ],
   "outputs": [
    {
     "data": {
      "image/png": "[encoded data removed]",
      "text/plain": [
       "<IPython.core.display.Image object>"
      ]
     },
     "metadata": {},
     "output_type": "display_data"
    }
   ],
   "execution_count": 7
  },
  {
   "metadata": {
    "ExecuteTime": {
     "end_time": "2025-03-22T12:09:17.259318Z",
     "start_time": "2025-03-22T12:09:17.257436Z"
    }
   },
   "cell_type": "code",
   "source": [
    "# Create a thread\n",
    "config = {\"configurable\": {\"thread_id\": \"2\"}}"
   ],
   "id": "1099493d381c0016",
   "outputs": [],
   "execution_count": 8
  },
  {
   "cell_type": "code",
   "id": "0f4094a0-d240-4be8-903a-7d9f605bdc5c",
   "metadata": {
    "ExecuteTime": {
     "end_time": "2025-03-22T12:09:18.096290Z",
     "start_time": "2025-03-22T12:09:17.268328Z"
    }
   },
   "source": [
    "from langchain_core.messages import HumanMessage\n",
    "\n",
    "# Start conversation\n",
    "output = graph.invoke({\"messages\": [HumanMessage(content=\"hi! I'm Lance\")]}, config)\n",
    "\n",
    "for m in output['messages']:\n",
    "    m.pretty_print()"
   ],
   "outputs": [
    {
     "name": "stdout",
     "output_type": "stream",
     "text": [
      "================================\u001B[1m Human Message \u001B[0m=================================\n",
      "\n",
      "hi! I'm Lance\n",
      "==================================\u001B[1m Ai Message \u001B[0m==================================\n",
      "\n",
      "Hello Lance! How can I assist you today?\n"
     ]
    }
   ],
   "execution_count": 9
  },
  {
   "metadata": {},
   "cell_type": "markdown",
   "source": "Now, we just re-compile with our sqlite checkpointer.",
   "id": "41c13c0b-a383-4f73-9cc1-63f0eed8f190"
  },
  {
   "metadata": {
    "ExecuteTime": {
     "end_time": "2025-03-22T12:09:18.598088Z",
     "start_time": "2025-03-22T12:09:18.102811Z"
    }
   },
   "cell_type": "code",
   "source": [
    "from langchain_core.messages import HumanMessage\n",
    "\n",
    "output = graph.invoke({\"messages\": [HumanMessage(content=\"What's my name?\")]}, config)\n",
    "\n",
    "for m in output['messages']:\n",
    "    m.pretty_print()"
   ],
   "id": "1b5f5ca0dd5cbaba",
   "outputs": [
    {
     "name": "stdout",
     "output_type": "stream",
     "text": [
      "================================\u001B[1m Human Message \u001B[0m=================================\n",
      "\n",
      "hi! I'm Lance\n",
      "==================================\u001B[1m Ai Message \u001B[0m==================================\n",
      "\n",
      "Hello Lance! How can I assist you today?\n",
      "================================\u001B[1m Human Message \u001B[0m=================================\n",
      "\n",
      "What's my name?\n",
      "==================================\u001B[1m Ai Message \u001B[0m==================================\n",
      "\n",
      "Your name is Lance. How can I help you today, Lance?\n"
     ]
    }
   ],
   "execution_count": 10
  },
  {
   "cell_type": "markdown",
   "id": "c0f3e842-4497-45e2-a924-69672a9bcb33",
   "metadata": {},
   "source": [
    "Let's confirm that our state is saved locally."
   ]
  },
  {
   "metadata": {},
   "cell_type": "markdown",
   "source": [
    "### Persisting state\n",
    "\n",
    "Using database like Sqlite means state is persisted!\n",
    "\n",
    "For example, we can re-start the notebook kernel and see that we can still load from Sqlite DB on disk.\n"
   ],
   "id": "1e21152d-ed9c-408d-b7d5-f634c9ce81e2"
  },
  {
   "metadata": {
    "ExecuteTime": {
     "end_time": "2025-03-22T12:09:18.673479Z",
     "start_time": "2025-03-22T12:09:18.669814Z"
    }
   },
   "cell_type": "code",
   "source": [
    "config = {\"configurable\": {\"thread_id\": \"2\"}}\n",
    "graph_state = graph.get_state(config)\n",
    "graph_state"
   ],
   "id": "d2ab158a-5a82-417a-8841-730a4cc18ea7",
   "outputs": [
    {
     "data": {
      "text/plain": [
       "StateSnapshot(values={'messages': [HumanMessage(content=\"hi! I'm Lance\", additional_kwargs={}, response_metadata={}, id='8b986024-d75a-4004-91fe-fedb1ddbee7b'), AIMessage(content='Hello Lance! How can I assist you today?', additional_kwargs={'refusal': None}, response_metadata={'token_usage': {'completion_tokens': 11, 'prompt_tokens': 12, 'total_tokens': 23, 'completion_tokens_details': {'accepted_prediction_tokens': 0, 'audio_tokens': 0, 'reasoning_tokens': 0, 'rejected_prediction_tokens': 0}, 'prompt_tokens_details': {'audio_tokens': 0, 'cached_tokens': 0}}, 'model_name': 'gpt-3.5-turbo-0125', 'system_fingerprint': None, 'id': 'chatcmpl-BDrx7qv8nu5yAcUEr2StMOzXq6UNZ', 'finish_reason': 'stop', 'logprobs': None}, id='run-6c417567-8784-446b-b4cb-5b419f1c5a55-0', usage_metadata={'input_tokens': 12, 'output_tokens': 11, 'total_tokens': 23, 'input_token_details': {'audio': 0, 'cache_read': 0}, 'output_token_details': {'audio': 0, 'reasoning': 0}}), HumanMessage(content=\"What's my name?\", additional_kwargs={}, response_metadata={}, id='659fe3cc-ef69-4741-a7ef-c1b9eb883530'), AIMessage(content='Your name is Lance. How can I help you today, Lance?', additional_kwargs={'refusal': None}, response_metadata={'token_usage': {'completion_tokens': 15, 'prompt_tokens': 35, 'total_tokens': 50, 'completion_tokens_details': {'accepted_prediction_tokens': 0, 'audio_tokens': 0, 'reasoning_tokens': 0, 'rejected_prediction_tokens': 0}, 'prompt_tokens_details': {'audio_tokens': 0, 'cached_tokens': 0}}, 'model_name': 'gpt-3.5-turbo-0125', 'system_fingerprint': None, 'id': 'chatcmpl-BDrx875piCRz0ne5dVdivyB2SA0BQ', 'finish_reason': 'stop', 'logprobs': None}, id='run-44c0aa54-8ed9-47f4-b577-e268df13298f-0', usage_metadata={'input_tokens': 35, 'output_tokens': 15, 'total_tokens': 50, 'input_token_details': {'audio': 0, 'cache_read': 0}, 'output_token_details': {'audio': 0, 'reasoning': 0}})]}, next=(), config={'configurable': {'thread_id': '2', 'checkpoint_ns': '', 'checkpoint_id': '1f007167-b309-6924-8004-db9ba9dd1779'}}, metadata={'source': 'loop', 'writes': {'call_llm': {'messages': AIMessage(content='Your name is Lance. How can I help you today, Lance?', additional_kwargs={'refusal': None}, response_metadata={'token_usage': {'completion_tokens': 15, 'prompt_tokens': 35, 'total_tokens': 50, 'completion_tokens_details': {'accepted_prediction_tokens': 0, 'audio_tokens': 0, 'reasoning_tokens': 0, 'rejected_prediction_tokens': 0}, 'prompt_tokens_details': {'audio_tokens': 0, 'cached_tokens': 0}}, 'model_name': 'gpt-3.5-turbo-0125', 'system_fingerprint': None, 'id': 'chatcmpl-BDrx875piCRz0ne5dVdivyB2SA0BQ', 'finish_reason': 'stop', 'logprobs': None}, id='run-44c0aa54-8ed9-47f4-b577-e268df13298f-0', usage_metadata={'input_tokens': 35, 'output_tokens': 15, 'total_tokens': 50, 'input_token_details': {'audio': 0, 'cache_read': 0}, 'output_token_details': {'audio': 0, 'reasoning': 0}})}}, 'thread_id': '2', 'step': 4, 'parents': {}}, created_at='2025-03-22T12:09:18.594254+00:00', parent_config={'configurable': {'thread_id': '2', 'checkpoint_ns': '', 'checkpoint_id': '1f007167-ae61-66ce-8003-bac0a3d0672a'}}, tasks=())"
      ]
     },
     "execution_count": 11,
     "metadata": {},
     "output_type": "execute_result"
    }
   ],
   "execution_count": 11
  }
 ],
 "metadata": {
  "kernelspec": {
   "display_name": "Python 3 (ipykernel)",
   "language": "python",
   "name": "python3"
  },
  "language_info": {
   "codemirror_mode": {
    "name": "ipython",
    "version": 3
   },
   "file_extension": ".py",
   "mimetype": "text/x-python",
   "name": "python",
   "nbconvert_exporter": "python",
   "pygments_lexer": "ipython3",
   "version": "3.12.1"
  }
 },
 "nbformat": 4,
 "nbformat_minor": 5
}
