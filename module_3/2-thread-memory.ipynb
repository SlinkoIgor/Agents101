{
 "cells": [
  {
   "cell_type": "markdown",
   "id": "83fcadf3",
   "metadata": {},
   "source": [
    "[![Open in Colab](https://colab.research.google.com/assets/colab-badge.svg)](https://colab.research.google.com/github/langchain-ai/langchain-academy/blob/main/module-2/chatbot-summarization.ipynb) [![Open in LangChain Academy](https://cdn.prod.website-files.com/65b8cd72835ceeacd4449a53/66e9eba12c7b7688aa3dbb5e_LCA-badge-green.svg)](https://academy.langchain.com/courses/take/intro-to-langgraph/lessons/58239436-lesson-5-chatbot-w-summarizing-messages-and-memory)"
   ]
  },
  {
   "cell_type": "markdown",
   "id": "b651ead9-5504-45ee-938d-f91ac78dddd1",
   "metadata": {},
   "source": [
    "# Thread memory\n",
    "\n",
    "Let's do something to avoid passing state every time and allow agent to persistently accumulate info.\n",
    "The answer is thread memory!"
   ]
  },
  {
   "cell_type": "code",
   "id": "000a6daa-92ad-4e57-a060-d1c81176eb0d",
   "metadata": {
    "ExecuteTime": {
     "end_time": "2025-03-23T19:51:35.056160Z",
     "start_time": "2025-03-23T19:51:33.200786Z"
    }
   },
   "source": [
    "%%capture --no-stderr\n",
    "%pip install --quiet -U langchain_core langgraph langchain_openai"
   ],
   "outputs": [],
   "execution_count": 112
  },
  {
   "cell_type": "code",
   "id": "09201a62",
   "metadata": {
    "ExecuteTime": {
     "end_time": "2025-03-23T19:51:35.064881Z",
     "start_time": "2025-03-23T19:51:35.062247Z"
    }
   },
   "source": [
    "import os, getpass\n",
    "\n",
    "def _set_env(var: str):\n",
    "    if not os.environ.get(var):\n",
    "        os.environ[var] = getpass.getpass(f\"{var}: \")\n",
    "\n",
    "_set_env(\"OPENAI_API_KEY\")"
   ],
   "outputs": [],
   "execution_count": 113
  },
  {
   "cell_type": "code",
   "id": "537ade30-6a0e-4b6b-8bcd-ce90790b6392",
   "metadata": {
    "ExecuteTime": {
     "end_time": "2025-03-23T19:51:35.083981Z",
     "start_time": "2025-03-23T19:51:35.071559Z"
    }
   },
   "source": [
    "from langchain_openai import ChatOpenAI\n",
    "\n",
    "llm = ChatOpenAI(model=\"gpt-3.5-turbo\", temperature=0)"
   ],
   "outputs": [],
   "execution_count": 114
  },
  {
   "metadata": {
    "ExecuteTime": {
     "end_time": "2025-03-23T19:51:35.385695Z",
     "start_time": "2025-03-23T19:51:35.089178Z"
    }
   },
   "cell_type": "code",
   "source": [
    "from IPython.display import Image, display\n",
    "from langgraph.graph import MessagesState\n",
    "from langgraph.graph import StateGraph, START, END\n",
    "\n",
    "# Node\n",
    "def call_llm(state: MessagesState):\n",
    "    return {\"messages\": llm.invoke(state[\"messages\"])}\n",
    "\n",
    "# Build graph\n",
    "builder = StateGraph(MessagesState)\n",
    "builder.add_node(\"call_llm\", call_llm)\n",
    "builder.add_edge(START, \"call_llm\")\n",
    "builder.add_edge(\"call_llm\", END)\n",
    "graph = builder.compile()\n",
    "\n",
    "# View\n",
    "display(Image(graph.get_graph().draw_mermaid_png()))"
   ],
   "id": "64f9ed943f2779ef",
   "outputs": [
    {
     "data": {
      "image/png": "[encoded data removed]",
      "text/plain": [
       "<IPython.core.display.Image object>"
      ]
     },
     "metadata": {},
     "output_type": "display_data"
    }
   ],
   "execution_count": 115
  },
  {
   "metadata": {
    "ExecuteTime": {
     "end_time": "2025-03-23T19:51:37.069522Z",
     "start_time": "2025-03-23T19:51:35.392485Z"
    }
   },
   "cell_type": "code",
   "source": [
    "from langchain_core.messages import HumanMessage\n",
    "\n",
    "state = graph.invoke({\"messages\": [HumanMessage(content=\"Hi! I'm Lance\")]})\n",
    "\n",
    "for m in state['messages']:\n",
    "    m.pretty_print()"
   ],
   "id": "879396c2650e83bf",
   "outputs": [
    {
     "name": "stdout",
     "output_type": "stream",
     "text": [
      "================================\u001B[1m Human Message \u001B[0m=================================\n",
      "\n",
      "Hi! I'm Lance\n",
      "==================================\u001B[1m Ai Message \u001B[0m==================================\n",
      "\n",
      "Nice to meet you, Lance! How can I assist you today?\n"
     ]
    }
   ],
   "execution_count": 116
  },
  {
   "metadata": {
    "ExecuteTime": {
     "end_time": "2025-03-23T19:51:37.752074Z",
     "start_time": "2025-03-23T19:51:37.080528Z"
    }
   },
   "cell_type": "code",
   "source": [
    "from langchain_core.messages import HumanMessage\n",
    "\n",
    "state = graph.invoke({\"messages\": [HumanMessage(content=\"What is my name?\")]})\n",
    "\n",
    "for m in state['messages']:\n",
    "    m.pretty_print()"
   ],
   "id": "ae2039600454689f",
   "outputs": [
    {
     "name": "stdout",
     "output_type": "stream",
     "text": [
      "================================\u001B[1m Human Message \u001B[0m=================================\n",
      "\n",
      "What is my name?\n",
      "==================================\u001B[1m Ai Message \u001B[0m==================================\n",
      "\n",
      "I'm sorry, I do not have access to personal information such as your name.\n"
     ]
    }
   ],
   "execution_count": 117
  },
  {
   "metadata": {},
   "cell_type": "markdown",
   "source": [
    "## Adding memory\n",
    "\n",
    "We will use `MemorySaver` - easy-to-use in-memory key-value store for Graph state. All we need to do is compile the graph with a checkpointer, and our graph has memory!"
   ],
   "id": "5a838f4c-7067-4f7f-a4c4-6654e11214cd"
  },
  {
   "metadata": {
    "ExecuteTime": {
     "end_time": "2025-03-23T19:51:37.810735Z",
     "start_time": "2025-03-23T19:51:37.764201Z"
    }
   },
   "cell_type": "code",
   "source": [
    "from langgraph.checkpoint.memory import MemorySaver\n",
    "# Init in-memory storage\n",
    "memory = MemorySaver()\n",
    "# Compile graph passing memory as a checkpointer\n",
    "graph = builder.compile(checkpointer=memory)\n",
    "\n",
    "display(Image(graph.get_graph().draw_mermaid_png()))"
   ],
   "id": "804605f527b21f9b",
   "outputs": [
    {
     "data": {
      "image/png": "[encoded data removed]",
      "text/plain": [
       "<IPython.core.display.Image object>"
      ]
     },
     "metadata": {},
     "output_type": "display_data"
    }
   ],
   "execution_count": 118
  },
  {
   "metadata": {},
   "cell_type": "markdown",
   "source": [
    "## Checkpoints\n",
    "\n",
    "The `checkpointer` saves the state at each step as a checkpoint.\n",
    "\n",
    "These saved checkpoints can be grouped into a `thread` of conversation. Think about Slack as an analog: different channels carry different conversations. Threads are like Slack channels, capturing grouped collections of state (e.g., conversation).\n",
    "\n",
    "Below, we use `configurable` to set a thread ID.\n",
    "\n",
    "![state.jpg](https://cdn.prod.website-files.com/65b8cd72835ceeacd4449a53/66dbadf3b379c2ee621adfd1_chatbot-summarization1.png)"
   ],
   "id": "d0bd5d23-ac3b-4496-a049-9a9f97d2feb9"
  },
  {
   "metadata": {
    "ExecuteTime": {
     "end_time": "2025-03-23T19:51:37.820341Z",
     "start_time": "2025-03-23T19:51:37.818506Z"
    }
   },
   "cell_type": "code",
   "source": [
    "# Create a thread\n",
    "config = {\"configurable\": {\"thread_id\": \"1\"}}"
   ],
   "id": "e4ec97058fc9b5e4",
   "outputs": [],
   "execution_count": 119
  },
  {
   "metadata": {
    "ExecuteTime": {
     "end_time": "2025-03-23T19:51:37.833703Z",
     "start_time": "2025-03-23T19:51:37.831674Z"
    }
   },
   "cell_type": "code",
   "source": "graph.get_state(config)",
   "id": "7116cb88f00c5412",
   "outputs": [
    {
     "data": {
      "text/plain": [
       "StateSnapshot(values={}, next=(), config={'configurable': {'thread_id': '1'}}, metadata=None, created_at=None, parent_config=None, tasks=())"
      ]
     },
     "execution_count": 120,
     "metadata": {},
     "output_type": "execute_result"
    }
   ],
   "execution_count": 120
  },
  {
   "metadata": {},
   "cell_type": "markdown",
   "source": [
    "`StateSnapshot` object with the following key properties:\n",
    "* config: Config associated with this checkpoint.\n",
    "* metadata: Metadata associated with this checkpoint.\n",
    "* values: Values of the state channels at this point in time.\n",
    "* next A tuple of the node names to execute next in the graph.\n",
    "* tasks: A tuple of PregelTask objects that contain information about next tasks to be executed. If the step was previously attempted, it will include error information. If a graph was interrupted dynamically from within a node, tasks will contain additional data associated with interrupts.\n",
    "\n",
    "https://langchain-ai.github.io/langgraph/concepts/persistence/"
   ],
   "id": "1ad16294681301fc"
  },
  {
   "metadata": {
    "ExecuteTime": {
     "end_time": "2025-03-23T19:51:38.319985Z",
     "start_time": "2025-03-23T19:51:37.848593Z"
    }
   },
   "cell_type": "code",
   "source": [
    "# Start conversation\n",
    "input_message = HumanMessage(content=\"Hi! I'm Lance\")\n",
    "state = graph.invoke({\"messages\": [input_message]}, config)\n",
    "\n",
    "for m in state['messages']:\n",
    "    m.pretty_print()"
   ],
   "id": "2566c93b-13e6-4a53-bc0f-b00fff691d30",
   "outputs": [
    {
     "name": "stdout",
     "output_type": "stream",
     "text": [
      "================================\u001B[1m Human Message \u001B[0m=================================\n",
      "\n",
      "Hi! I'm Lance\n",
      "==================================\u001B[1m Ai Message \u001B[0m==================================\n",
      "\n",
      "Nice to meet you, Lance! How can I assist you today?\n"
     ]
    }
   ],
   "execution_count": 121
  },
  {
   "metadata": {},
   "cell_type": "markdown",
   "source": "If we look at checkpoint state, we will see exactly this list of messages:",
   "id": "ea031c3154a182c4"
  },
  {
   "metadata": {
    "ExecuteTime": {
     "end_time": "2025-03-23T19:51:38.333974Z",
     "start_time": "2025-03-23T19:51:38.330688Z"
    }
   },
   "cell_type": "code",
   "source": [
    "for m in graph.get_state(config).values.get(\"messages\"): # Q: When checkpoints are created?\n",
    "    m.pretty_print()"
   ],
   "id": "91b7e9b0232ebb1d",
   "outputs": [
    {
     "name": "stdout",
     "output_type": "stream",
     "text": [
      "================================\u001B[1m Human Message \u001B[0m=================================\n",
      "\n",
      "Hi! I'm Lance\n",
      "==================================\u001B[1m Ai Message \u001B[0m==================================\n",
      "\n",
      "Nice to meet you, Lance! How can I assist you today?\n"
     ]
    }
   ],
   "execution_count": 122
  },
  {
   "metadata": {
    "ExecuteTime": {
     "end_time": "2025-03-23T19:51:38.850231Z",
     "start_time": "2025-03-23T19:51:38.342207Z"
    }
   },
   "cell_type": "code",
   "source": [
    "state = graph.invoke({\"messages\": [HumanMessage(content=\"What's my name?\")]}, config)\n",
    "\n",
    "for m in state['messages']:\n",
    "    m.pretty_print()"
   ],
   "id": "4b38e125b031ce96",
   "outputs": [
    {
     "name": "stdout",
     "output_type": "stream",
     "text": [
      "================================\u001B[1m Human Message \u001B[0m=================================\n",
      "\n",
      "Hi! I'm Lance\n",
      "==================================\u001B[1m Ai Message \u001B[0m==================================\n",
      "\n",
      "Nice to meet you, Lance! How can I assist you today?\n",
      "================================\u001B[1m Human Message \u001B[0m=================================\n",
      "\n",
      "What's my name?\n",
      "==================================\u001B[1m Ai Message \u001B[0m==================================\n",
      "\n",
      "Your name is Lance.\n"
     ]
    }
   ],
   "execution_count": 123
  },
  {
   "metadata": {
    "ExecuteTime": {
     "end_time": "2025-03-23T19:51:38.864790Z",
     "start_time": "2025-03-23T19:51:38.861107Z"
    }
   },
   "cell_type": "code",
   "source": "config",
   "id": "a7b26e00503a9ae7",
   "outputs": [
    {
     "data": {
      "text/plain": [
       "{'configurable': {'thread_id': '1'}}"
      ]
     },
     "execution_count": 124,
     "metadata": {},
     "output_type": "execute_result"
    }
   ],
   "execution_count": 124
  },
  {
   "metadata": {
    "ExecuteTime": {
     "end_time": "2025-03-23T19:51:38.882661Z",
     "start_time": "2025-03-23T19:51:38.879513Z"
    }
   },
   "cell_type": "code",
   "source": "graph.get_state(config).values.get(\"messages\")",
   "id": "22f1b35f-e4bb-47f6-87b1-d84d8aed9aa9",
   "outputs": [
    {
     "data": {
      "text/plain": [
       "[HumanMessage(content=\"Hi! I'm Lance\", additional_kwargs={}, response_metadata={}, id='4e5ce0ec-ddb8-4cfe-83bd-4bf155ccbfd9'),\n",
       " AIMessage(content='Nice to meet you, Lance! How can I assist you today?', additional_kwargs={'refusal': None}, response_metadata={'token_usage': {'completion_tokens': 15, 'prompt_tokens': 12, 'total_tokens': 27, 'completion_tokens_details': {'accepted_prediction_tokens': 0, 'audio_tokens': 0, 'reasoning_tokens': 0, 'rejected_prediction_tokens': 0}, 'prompt_tokens_details': {'audio_tokens': 0, 'cached_tokens': 0}}, 'model_name': 'gpt-3.5-turbo-0125', 'system_fingerprint': None, 'id': 'chatcmpl-BELe5ETYv5PINjhs9pwtQrqaDrWde', 'finish_reason': 'stop', 'logprobs': None}, id='run-f6410607-a185-42d4-ae73-230f96253067-0', usage_metadata={'input_tokens': 12, 'output_tokens': 15, 'total_tokens': 27, 'input_token_details': {'audio': 0, 'cache_read': 0}, 'output_token_details': {'audio': 0, 'reasoning': 0}}),\n",
       " HumanMessage(content=\"What's my name?\", additional_kwargs={}, response_metadata={}, id='f2da4c3c-85ea-47af-96b2-b19a6f230233'),\n",
       " AIMessage(content='Your name is Lance.', additional_kwargs={'refusal': None}, response_metadata={'token_usage': {'completion_tokens': 6, 'prompt_tokens': 39, 'total_tokens': 45, 'completion_tokens_details': {'accepted_prediction_tokens': 0, 'audio_tokens': 0, 'reasoning_tokens': 0, 'rejected_prediction_tokens': 0}, 'prompt_tokens_details': {'audio_tokens': 0, 'cached_tokens': 0}}, 'model_name': 'gpt-3.5-turbo-0125', 'system_fingerprint': None, 'id': 'chatcmpl-BELe6WwJw5uVkKXRBtMTzd81UeaH0', 'finish_reason': 'stop', 'logprobs': None}, id='run-6faf20c9-f570-4544-a4fb-b345fc76cc87-0', usage_metadata={'input_tokens': 39, 'output_tokens': 6, 'total_tokens': 45, 'input_token_details': {'audio': 0, 'cache_read': 0}, 'output_token_details': {'audio': 0, 'reasoning': 0}})]"
      ]
     },
     "execution_count": 125,
     "metadata": {},
     "output_type": "execute_result"
    }
   ],
   "execution_count": 125
  },
  {
   "metadata": {
    "ExecuteTime": {
     "end_time": "2025-03-23T19:51:38.898993Z",
     "start_time": "2025-03-23T19:51:38.895657Z"
    }
   },
   "cell_type": "code",
   "source": [
    "# Get all saved checkpoints\n",
    "for checkpoint in list(graph.get_state_history(config)):\n",
    "    print(\"_________________________________ CHECKPOINT ___________________________________\")\n",
    "    print(checkpoint.next)\n",
    "    messages = checkpoint.values.get('messages')\n",
    "    for m in messages:\n",
    "        m.pretty_print()\n",
    "    print(\"________________________________________________________________________________\\n\\n\")\n",
    "\n",
    "# Q: When checkpoints are saved?"
   ],
   "id": "c700ecf4249921f9",
   "outputs": [
    {
     "name": "stdout",
     "output_type": "stream",
     "text": [
      "_________________________________ CHECKPOINT ___________________________________\n",
      "()\n",
      "================================\u001B[1m Human Message \u001B[0m=================================\n",
      "\n",
      "Hi! I'm Lance\n",
      "==================================\u001B[1m Ai Message \u001B[0m==================================\n",
      "\n",
      "Nice to meet you, Lance! How can I assist you today?\n",
      "================================\u001B[1m Human Message \u001B[0m=================================\n",
      "\n",
      "What's my name?\n",
      "==================================\u001B[1m Ai Message \u001B[0m==================================\n",
      "\n",
      "Your name is Lance.\n",
      "________________________________________________________________________________\n",
      "\n",
      "\n",
      "_________________________________ CHECKPOINT ___________________________________\n",
      "('call_llm',)\n",
      "================================\u001B[1m Human Message \u001B[0m=================================\n",
      "\n",
      "Hi! I'm Lance\n",
      "==================================\u001B[1m Ai Message \u001B[0m==================================\n",
      "\n",
      "Nice to meet you, Lance! How can I assist you today?\n",
      "================================\u001B[1m Human Message \u001B[0m=================================\n",
      "\n",
      "What's my name?\n",
      "________________________________________________________________________________\n",
      "\n",
      "\n",
      "_________________________________ CHECKPOINT ___________________________________\n",
      "('__start__',)\n",
      "================================\u001B[1m Human Message \u001B[0m=================================\n",
      "\n",
      "Hi! I'm Lance\n",
      "==================================\u001B[1m Ai Message \u001B[0m==================================\n",
      "\n",
      "Nice to meet you, Lance! How can I assist you today?\n",
      "________________________________________________________________________________\n",
      "\n",
      "\n",
      "_________________________________ CHECKPOINT ___________________________________\n",
      "()\n",
      "================================\u001B[1m Human Message \u001B[0m=================================\n",
      "\n",
      "Hi! I'm Lance\n",
      "==================================\u001B[1m Ai Message \u001B[0m==================================\n",
      "\n",
      "Nice to meet you, Lance! How can I assist you today?\n",
      "________________________________________________________________________________\n",
      "\n",
      "\n",
      "_________________________________ CHECKPOINT ___________________________________\n",
      "('call_llm',)\n",
      "================================\u001B[1m Human Message \u001B[0m=================================\n",
      "\n",
      "Hi! I'm Lance\n",
      "________________________________________________________________________________\n",
      "\n",
      "\n",
      "_________________________________ CHECKPOINT ___________________________________\n",
      "('__start__',)\n",
      "________________________________________________________________________________\n",
      "\n",
      "\n"
     ]
    }
   ],
   "execution_count": 126
  },
  {
   "metadata": {
    "ExecuteTime": {
     "end_time": "2025-03-23T19:51:38.908837Z",
     "start_time": "2025-03-23T19:51:38.907215Z"
    }
   },
   "cell_type": "code",
   "source": "# Q: Can I access thread 1 info from thread 2?",
   "id": "1c75300e1184f102",
   "outputs": [],
   "execution_count": 127
  },
  {
   "metadata": {
    "ExecuteTime": {
     "end_time": "2025-03-23T19:51:38.924192Z",
     "start_time": "2025-03-23T19:51:38.922754Z"
    }
   },
   "cell_type": "code",
   "source": "",
   "id": "2dad3c9caa6d0223",
   "outputs": [],
   "execution_count": null
  }
 ],
 "metadata": {
  "kernelspec": {
   "display_name": "Python 3 (ipykernel)",
   "language": "python",
   "name": "python3"
  },
  "language_info": {
   "codemirror_mode": {
    "name": "ipython",
    "version": 3
   },
   "file_extension": ".py",
   "mimetype": "text/x-python",
   "name": "python",
   "nbconvert_exporter": "python",
   "pygments_lexer": "ipython3",
   "version": "3.12.1"
  }
 },
 "nbformat": 4,
 "nbformat_minor": 5
}
